{
 "cells": [
  {
   "cell_type": "code",
   "execution_count": 1,
   "id": "74b1d5da-933e-4f75-8aa7-34afaf7ad418",
   "metadata": {},
   "outputs": [
    {
     "name": "stdout",
     "output_type": "stream",
     "text": [
      "Requirement already satisfied: pandas in c:\\users\\vemul\\appdata\\local\\programs\\python\\python313\\lib\\site-packages (2.3.2)\n",
      "Requirement already satisfied: plotly in c:\\users\\vemul\\appdata\\local\\programs\\python\\python313\\lib\\site-packages (6.3.0)\n",
      "Requirement already satisfied: dash in c:\\users\\vemul\\appdata\\local\\programs\\python\\python313\\lib\\site-packages (3.2.0)\n",
      "Requirement already satisfied: numpy>=1.26.0 in c:\\users\\vemul\\appdata\\local\\programs\\python\\python313\\lib\\site-packages (from pandas) (2.3.2)\n",
      "Requirement already satisfied: python-dateutil>=2.8.2 in c:\\users\\vemul\\appdata\\local\\programs\\python\\python313\\lib\\site-packages (from pandas) (2.9.0.post0)\n",
      "Requirement already satisfied: pytz>=2020.1 in c:\\users\\vemul\\appdata\\local\\programs\\python\\python313\\lib\\site-packages (from pandas) (2025.2)\n",
      "Requirement already satisfied: tzdata>=2022.7 in c:\\users\\vemul\\appdata\\local\\programs\\python\\python313\\lib\\site-packages (from pandas) (2025.2)\n",
      "Requirement already satisfied: narwhals>=1.15.1 in c:\\users\\vemul\\appdata\\local\\programs\\python\\python313\\lib\\site-packages (from plotly) (2.3.0)\n",
      "Requirement already satisfied: packaging in c:\\users\\vemul\\appdata\\local\\programs\\python\\python313\\lib\\site-packages (from plotly) (25.0)\n",
      "Requirement already satisfied: Flask<3.2,>=1.0.4 in c:\\users\\vemul\\appdata\\local\\programs\\python\\python313\\lib\\site-packages (from dash) (3.1.2)\n",
      "Requirement already satisfied: Werkzeug<3.2 in c:\\users\\vemul\\appdata\\local\\programs\\python\\python313\\lib\\site-packages (from dash) (3.1.3)\n",
      "Requirement already satisfied: importlib-metadata in c:\\users\\vemul\\appdata\\local\\programs\\python\\python313\\lib\\site-packages (from dash) (8.7.0)\n",
      "Requirement already satisfied: typing-extensions>=4.1.1 in c:\\users\\vemul\\appdata\\local\\programs\\python\\python313\\lib\\site-packages (from dash) (4.15.0)\n",
      "Requirement already satisfied: requests in c:\\users\\vemul\\appdata\\local\\programs\\python\\python313\\lib\\site-packages (from dash) (2.32.5)\n",
      "Requirement already satisfied: retrying in c:\\users\\vemul\\appdata\\local\\programs\\python\\python313\\lib\\site-packages (from dash) (1.4.2)\n",
      "Requirement already satisfied: nest-asyncio in c:\\users\\vemul\\appdata\\local\\programs\\python\\python313\\lib\\site-packages (from dash) (1.6.0)\n",
      "Requirement already satisfied: setuptools in c:\\users\\vemul\\appdata\\local\\programs\\python\\python313\\lib\\site-packages (from dash) (80.9.0)\n",
      "Requirement already satisfied: blinker>=1.9.0 in c:\\users\\vemul\\appdata\\local\\programs\\python\\python313\\lib\\site-packages (from Flask<3.2,>=1.0.4->dash) (1.9.0)\n",
      "Requirement already satisfied: click>=8.1.3 in c:\\users\\vemul\\appdata\\local\\programs\\python\\python313\\lib\\site-packages (from Flask<3.2,>=1.0.4->dash) (8.2.1)\n",
      "Requirement already satisfied: itsdangerous>=2.2.0 in c:\\users\\vemul\\appdata\\local\\programs\\python\\python313\\lib\\site-packages (from Flask<3.2,>=1.0.4->dash) (2.2.0)\n",
      "Requirement already satisfied: jinja2>=3.1.2 in c:\\users\\vemul\\appdata\\local\\programs\\python\\python313\\lib\\site-packages (from Flask<3.2,>=1.0.4->dash) (3.1.6)\n",
      "Requirement already satisfied: markupsafe>=2.1.1 in c:\\users\\vemul\\appdata\\local\\programs\\python\\python313\\lib\\site-packages (from Flask<3.2,>=1.0.4->dash) (3.0.2)\n",
      "Requirement already satisfied: colorama in c:\\users\\vemul\\appdata\\local\\programs\\python\\python313\\lib\\site-packages (from click>=8.1.3->Flask<3.2,>=1.0.4->dash) (0.4.6)\n",
      "Requirement already satisfied: six>=1.5 in c:\\users\\vemul\\appdata\\local\\programs\\python\\python313\\lib\\site-packages (from python-dateutil>=2.8.2->pandas) (1.17.0)\n",
      "Requirement already satisfied: zipp>=3.20 in c:\\users\\vemul\\appdata\\local\\programs\\python\\python313\\lib\\site-packages (from importlib-metadata->dash) (3.23.0)\n",
      "Requirement already satisfied: charset_normalizer<4,>=2 in c:\\users\\vemul\\appdata\\local\\programs\\python\\python313\\lib\\site-packages (from requests->dash) (3.4.3)\n",
      "Requirement already satisfied: idna<4,>=2.5 in c:\\users\\vemul\\appdata\\local\\programs\\python\\python313\\lib\\site-packages (from requests->dash) (3.10)\n",
      "Requirement already satisfied: urllib3<3,>=1.21.1 in c:\\users\\vemul\\appdata\\local\\programs\\python\\python313\\lib\\site-packages (from requests->dash) (2.5.0)\n",
      "Requirement already satisfied: certifi>=2017.4.17 in c:\\users\\vemul\\appdata\\local\\programs\\python\\python313\\lib\\site-packages (from requests->dash) (2025.8.3)\n"
     ]
    }
   ],
   "source": [
    "# STEP 1: Import Required Libraries\n",
    "!pip install pandas plotly dash\n",
    "import pandas as pd\n",
    "import numpy as np\n",
    "import matplotlib.pyplot as plt\n",
    "import seaborn as sns\n",
    "from sklearn.preprocessing import StandardScaler, OneHotEncoder\n",
    "from sklearn.ensemble import IsolationForest, RandomForestClassifier\n",
    "from sklearn.model_selection import train_test_split\n",
    "from sklearn.metrics import classification_report, accuracy_score\n",
    "import warnings\n",
    "warnings.filterwarnings(\"ignore\")\n"
   ]
  },
  {
   "cell_type": "code",
   "execution_count": 2,
   "id": "8cbc613c-df64-468c-be92-61f6ebf47123",
   "metadata": {},
   "outputs": [
    {
     "name": "stdout",
     "output_type": "stream",
     "text": [
      "Initial Shape: (1133, 6)\n"
     ]
    },
    {
     "data": {
      "text/html": [
       "<div>\n",
       "<style scoped>\n",
       "    .dataframe tbody tr th:only-of-type {\n",
       "        vertical-align: middle;\n",
       "    }\n",
       "\n",
       "    .dataframe tbody tr th {\n",
       "        vertical-align: top;\n",
       "    }\n",
       "\n",
       "    .dataframe thead th {\n",
       "        text-align: right;\n",
       "    }\n",
       "</style>\n",
       "<table border=\"1\" class=\"dataframe\">\n",
       "  <thead>\n",
       "    <tr style=\"text-align: right;\">\n",
       "      <th></th>\n",
       "      <th>date</th>\n",
       "      <th>datetime</th>\n",
       "      <th>cash_type</th>\n",
       "      <th>card</th>\n",
       "      <th>money</th>\n",
       "      <th>coffee_name</th>\n",
       "    </tr>\n",
       "  </thead>\n",
       "  <tbody>\n",
       "    <tr>\n",
       "      <th>0</th>\n",
       "      <td>2024-03-01</td>\n",
       "      <td>2024-03-01 10:15:50.520</td>\n",
       "      <td>card</td>\n",
       "      <td>ANON-0000-0000-0001</td>\n",
       "      <td>38.7</td>\n",
       "      <td>Latte</td>\n",
       "    </tr>\n",
       "    <tr>\n",
       "      <th>1</th>\n",
       "      <td>2024-03-01</td>\n",
       "      <td>2024-03-01 12:19:22.539</td>\n",
       "      <td>card</td>\n",
       "      <td>ANON-0000-0000-0002</td>\n",
       "      <td>38.7</td>\n",
       "      <td>Hot Chocolate</td>\n",
       "    </tr>\n",
       "    <tr>\n",
       "      <th>2</th>\n",
       "      <td>2024-03-01</td>\n",
       "      <td>2024-03-01 12:20:18.089</td>\n",
       "      <td>card</td>\n",
       "      <td>ANON-0000-0000-0002</td>\n",
       "      <td>38.7</td>\n",
       "      <td>Hot Chocolate</td>\n",
       "    </tr>\n",
       "    <tr>\n",
       "      <th>3</th>\n",
       "      <td>2024-03-01</td>\n",
       "      <td>2024-03-01 13:46:33.006</td>\n",
       "      <td>card</td>\n",
       "      <td>ANON-0000-0000-0003</td>\n",
       "      <td>28.9</td>\n",
       "      <td>Americano</td>\n",
       "    </tr>\n",
       "    <tr>\n",
       "      <th>4</th>\n",
       "      <td>2024-03-01</td>\n",
       "      <td>2024-03-01 13:48:14.626</td>\n",
       "      <td>card</td>\n",
       "      <td>ANON-0000-0000-0004</td>\n",
       "      <td>38.7</td>\n",
       "      <td>Latte</td>\n",
       "    </tr>\n",
       "  </tbody>\n",
       "</table>\n",
       "</div>"
      ],
      "text/plain": [
       "         date                 datetime cash_type                 card  money  \\\n",
       "0  2024-03-01  2024-03-01 10:15:50.520      card  ANON-0000-0000-0001   38.7   \n",
       "1  2024-03-01  2024-03-01 12:19:22.539      card  ANON-0000-0000-0002   38.7   \n",
       "2  2024-03-01  2024-03-01 12:20:18.089      card  ANON-0000-0000-0002   38.7   \n",
       "3  2024-03-01  2024-03-01 13:46:33.006      card  ANON-0000-0000-0003   28.9   \n",
       "4  2024-03-01  2024-03-01 13:48:14.626      card  ANON-0000-0000-0004   38.7   \n",
       "\n",
       "     coffee_name  \n",
       "0          Latte  \n",
       "1  Hot Chocolate  \n",
       "2  Hot Chocolate  \n",
       "3      Americano  \n",
       "4          Latte  "
      ]
     },
     "execution_count": 2,
     "metadata": {},
     "output_type": "execute_result"
    }
   ],
   "source": [
    "# STEP 2: Load the Dataset\n",
    "df = pd.read_csv('coffee sales dataset.csv')\n",
    "print(\"Initial Shape:\", df.shape)\n",
    "df.head()\n"
   ]
  },
  {
   "cell_type": "code",
   "execution_count": 3,
   "id": "daec947d-ad15-46d1-bab3-361974e54777",
   "metadata": {},
   "outputs": [],
   "source": [
    "import pandas as pd\n",
    "import plotly.express as px\n",
    "import plotly.graph_objects as go"
   ]
  },
  {
   "cell_type": "code",
   "execution_count": 4,
   "id": "2bc04d41-3f24-436a-8623-d1210858021f",
   "metadata": {},
   "outputs": [],
   "source": [
    "# Convert date columns\n",
    "df['date'] = pd.to_datetime(df['date'])\n",
    "df['datetime'] = pd.to_datetime(df['datetime'])"
   ]
  },
  {
   "cell_type": "code",
   "execution_count": 5,
   "id": "6d21ba9b-6f7c-4285-8d9f-5d254dc0b345",
   "metadata": {},
   "outputs": [],
   "source": [
    "# Create extra time features\n",
    "df['month'] = df['date'].dt.to_period('M').astype(str)\n",
    "df['day'] = df['date'].dt.day_name()\n",
    "df['hour'] = df['datetime'].dt.hour"
   ]
  },
  {
   "cell_type": "code",
   "execution_count": 6,
   "id": "2543b98f-c76d-4d55-b412-ae68be2500b8",
   "metadata": {},
   "outputs": [],
   "source": [
    "# Define coffee color palette\n",
    "coffee_colors = [\"#4B3832\", \"#854442\", \"#FFF4E6\", \"#3C2F2F\", \"#BE9B7B\", \"#A9746E\"]"
   ]
  },
  {
   "cell_type": "code",
   "execution_count": 7,
   "id": "034246ee-3681-435b-ad21-0ffcf4915f4f",
   "metadata": {},
   "outputs": [
    {
     "data": {
      "application/vnd.plotly.v1+json": {
       "config": {
        "plotlyServerURL": "https://plot.ly"
       },
       "data": [
        {
         "hovertemplate": "coffee_name=%{y}<br>money=%{x}<extra></extra>",
         "legendgroup": "Americano",
         "marker": {
          "color": "#4B3832",
          "pattern": {
           "shape": ""
          }
         },
         "name": "Americano",
         "orientation": "h",
         "showlegend": true,
         "textposition": "auto",
         "type": "bar",
         "x": {
          "bdata": "16NwPYokskA=",
          "dtype": "f8"
         },
         "xaxis": "x",
         "y": [
          "Americano"
         ],
         "yaxis": "y"
        },
        {
         "hovertemplate": "coffee_name=%{y}<br>money=%{x}<extra></extra>",
         "legendgroup": "Americano with Milk",
         "marker": {
          "color": "#BE9B7B",
          "pattern": {
           "shape": ""
          }
         },
         "name": "Americano with Milk",
         "orientation": "h",
         "showlegend": true,
         "textposition": "auto",
         "type": "bar",
         "x": {
          "bdata": "H4XrUfjMwEA=",
          "dtype": "f8"
         },
         "xaxis": "x",
         "y": [
          "Americano with Milk"
         ],
         "yaxis": "y"
        },
        {
         "hovertemplate": "coffee_name=%{y}<br>money=%{x}<extra></extra>",
         "legendgroup": "Cappuccino",
         "marker": {
          "color": "#6F4E37",
          "pattern": {
           "shape": ""
          }
         },
         "name": "Cappuccino",
         "orientation": "h",
         "showlegend": true,
         "textposition": "auto",
         "type": "bar",
         "x": {
          "bdata": "cT0K1yOlvEA=",
          "dtype": "f8"
         },
         "xaxis": "x",
         "y": [
          "Cappuccino"
         ],
         "yaxis": "y"
        },
        {
         "hovertemplate": "coffee_name=%{y}<br>money=%{x}<extra></extra>",
         "legendgroup": "Cocoa",
         "marker": {
          "color": "#D2B48C",
          "pattern": {
           "shape": ""
          }
         },
         "name": "Cocoa",
         "orientation": "h",
         "showlegend": true,
         "textposition": "auto",
         "type": "bar",
         "x": {
          "bdata": "9ihcj8I/lEA=",
          "dtype": "f8"
         },
         "xaxis": "x",
         "y": [
          "Cocoa"
         ],
         "yaxis": "y"
        },
        {
         "hovertemplate": "coffee_name=%{y}<br>money=%{x}<extra></extra>",
         "legendgroup": "Cortado",
         "marker": {
          "color": "#7B3F00",
          "pattern": {
           "shape": ""
          }
         },
         "name": "Cortado",
         "orientation": "h",
         "showlegend": true,
         "textposition": "auto",
         "type": "bar",
         "x": {
          "bdata": "XI/C9ShypUA=",
          "dtype": "f8"
         },
         "xaxis": "x",
         "y": [
          "Cortado"
         ],
         "yaxis": "y"
        },
        {
         "hovertemplate": "coffee_name=%{y}<br>money=%{x}<extra></extra>",
         "legendgroup": "Espresso",
         "marker": {
          "color": "#3C2F2F",
          "pattern": {
           "shape": ""
          }
         },
         "name": "Espresso",
         "orientation": "h",
         "showlegend": true,
         "textposition": "auto",
         "type": "bar",
         "x": {
          "bdata": "FK5H4XoykUA=",
          "dtype": "f8"
         },
         "xaxis": "x",
         "y": [
          "Espresso"
         ],
         "yaxis": "y"
        },
        {
         "hovertemplate": "coffee_name=%{y}<br>money=%{x}<extra></extra>",
         "legendgroup": "Hot Chocolate",
         "marker": {
          "color": "#854442",
          "pattern": {
           "shape": ""
          }
         },
         "name": "Hot Chocolate",
         "orientation": "h",
         "showlegend": true,
         "textposition": "auto",
         "type": "bar",
         "x": {
          "bdata": "KVyPwvW0pUA=",
          "dtype": "f8"
         },
         "xaxis": "x",
         "y": [
          "Hot Chocolate"
         ],
         "yaxis": "y"
        },
        {
         "hovertemplate": "coffee_name=%{y}<br>money=%{x}<extra></extra>",
         "legendgroup": "Latte",
         "marker": {
          "color": "#A9746E",
          "pattern": {
           "shape": ""
          }
         },
         "name": "Latte",
         "orientation": "h",
         "showlegend": true,
         "textposition": "auto",
         "type": "bar",
         "x": {
          "bdata": "uB6F65GYwUA=",
          "dtype": "f8"
         },
         "xaxis": "x",
         "y": [
          "Latte"
         ],
         "yaxis": "y"
        }
       ],
       "layout": {
        "barmode": "relative",
        "font": {
         "color": "#3C2F2F",
         "size": 14
        },
        "legend": {
         "title": {
          "text": "coffee_name"
         },
         "tracegroupgap": 0
        },
        "paper_bgcolor": "#FFF4E6",
        "plot_bgcolor": "#FFF4E6",
        "template": {
         "data": {
          "bar": [
           {
            "error_x": {
             "color": "#2a3f5f"
            },
            "error_y": {
             "color": "#2a3f5f"
            },
            "marker": {
             "line": {
              "color": "white",
              "width": 0.5
             },
             "pattern": {
              "fillmode": "overlay",
              "size": 10,
              "solidity": 0.2
             }
            },
            "type": "bar"
           }
          ],
          "barpolar": [
           {
            "marker": {
             "line": {
              "color": "white",
              "width": 0.5
             },
             "pattern": {
              "fillmode": "overlay",
              "size": 10,
              "solidity": 0.2
             }
            },
            "type": "barpolar"
           }
          ],
          "carpet": [
           {
            "aaxis": {
             "endlinecolor": "#2a3f5f",
             "gridcolor": "#C8D4E3",
             "linecolor": "#C8D4E3",
             "minorgridcolor": "#C8D4E3",
             "startlinecolor": "#2a3f5f"
            },
            "baxis": {
             "endlinecolor": "#2a3f5f",
             "gridcolor": "#C8D4E3",
             "linecolor": "#C8D4E3",
             "minorgridcolor": "#C8D4E3",
             "startlinecolor": "#2a3f5f"
            },
            "type": "carpet"
           }
          ],
          "choropleth": [
           {
            "colorbar": {
             "outlinewidth": 0,
             "ticks": ""
            },
            "type": "choropleth"
           }
          ],
          "contour": [
           {
            "colorbar": {
             "outlinewidth": 0,
             "ticks": ""
            },
            "colorscale": [
             [
              0,
              "#0d0887"
             ],
             [
              0.1111111111111111,
              "#46039f"
             ],
             [
              0.2222222222222222,
              "#7201a8"
             ],
             [
              0.3333333333333333,
              "#9c179e"
             ],
             [
              0.4444444444444444,
              "#bd3786"
             ],
             [
              0.5555555555555556,
              "#d8576b"
             ],
             [
              0.6666666666666666,
              "#ed7953"
             ],
             [
              0.7777777777777778,
              "#fb9f3a"
             ],
             [
              0.8888888888888888,
              "#fdca26"
             ],
             [
              1,
              "#f0f921"
             ]
            ],
            "type": "contour"
           }
          ],
          "contourcarpet": [
           {
            "colorbar": {
             "outlinewidth": 0,
             "ticks": ""
            },
            "type": "contourcarpet"
           }
          ],
          "heatmap": [
           {
            "colorbar": {
             "outlinewidth": 0,
             "ticks": ""
            },
            "colorscale": [
             [
              0,
              "#0d0887"
             ],
             [
              0.1111111111111111,
              "#46039f"
             ],
             [
              0.2222222222222222,
              "#7201a8"
             ],
             [
              0.3333333333333333,
              "#9c179e"
             ],
             [
              0.4444444444444444,
              "#bd3786"
             ],
             [
              0.5555555555555556,
              "#d8576b"
             ],
             [
              0.6666666666666666,
              "#ed7953"
             ],
             [
              0.7777777777777778,
              "#fb9f3a"
             ],
             [
              0.8888888888888888,
              "#fdca26"
             ],
             [
              1,
              "#f0f921"
             ]
            ],
            "type": "heatmap"
           }
          ],
          "histogram": [
           {
            "marker": {
             "pattern": {
              "fillmode": "overlay",
              "size": 10,
              "solidity": 0.2
             }
            },
            "type": "histogram"
           }
          ],
          "histogram2d": [
           {
            "colorbar": {
             "outlinewidth": 0,
             "ticks": ""
            },
            "colorscale": [
             [
              0,
              "#0d0887"
             ],
             [
              0.1111111111111111,
              "#46039f"
             ],
             [
              0.2222222222222222,
              "#7201a8"
             ],
             [
              0.3333333333333333,
              "#9c179e"
             ],
             [
              0.4444444444444444,
              "#bd3786"
             ],
             [
              0.5555555555555556,
              "#d8576b"
             ],
             [
              0.6666666666666666,
              "#ed7953"
             ],
             [
              0.7777777777777778,
              "#fb9f3a"
             ],
             [
              0.8888888888888888,
              "#fdca26"
             ],
             [
              1,
              "#f0f921"
             ]
            ],
            "type": "histogram2d"
           }
          ],
          "histogram2dcontour": [
           {
            "colorbar": {
             "outlinewidth": 0,
             "ticks": ""
            },
            "colorscale": [
             [
              0,
              "#0d0887"
             ],
             [
              0.1111111111111111,
              "#46039f"
             ],
             [
              0.2222222222222222,
              "#7201a8"
             ],
             [
              0.3333333333333333,
              "#9c179e"
             ],
             [
              0.4444444444444444,
              "#bd3786"
             ],
             [
              0.5555555555555556,
              "#d8576b"
             ],
             [
              0.6666666666666666,
              "#ed7953"
             ],
             [
              0.7777777777777778,
              "#fb9f3a"
             ],
             [
              0.8888888888888888,
              "#fdca26"
             ],
             [
              1,
              "#f0f921"
             ]
            ],
            "type": "histogram2dcontour"
           }
          ],
          "mesh3d": [
           {
            "colorbar": {
             "outlinewidth": 0,
             "ticks": ""
            },
            "type": "mesh3d"
           }
          ],
          "parcoords": [
           {
            "line": {
             "colorbar": {
              "outlinewidth": 0,
              "ticks": ""
             }
            },
            "type": "parcoords"
           }
          ],
          "pie": [
           {
            "automargin": true,
            "type": "pie"
           }
          ],
          "scatter": [
           {
            "fillpattern": {
             "fillmode": "overlay",
             "size": 10,
             "solidity": 0.2
            },
            "type": "scatter"
           }
          ],
          "scatter3d": [
           {
            "line": {
             "colorbar": {
              "outlinewidth": 0,
              "ticks": ""
             }
            },
            "marker": {
             "colorbar": {
              "outlinewidth": 0,
              "ticks": ""
             }
            },
            "type": "scatter3d"
           }
          ],
          "scattercarpet": [
           {
            "marker": {
             "colorbar": {
              "outlinewidth": 0,
              "ticks": ""
             }
            },
            "type": "scattercarpet"
           }
          ],
          "scattergeo": [
           {
            "marker": {
             "colorbar": {
              "outlinewidth": 0,
              "ticks": ""
             }
            },
            "type": "scattergeo"
           }
          ],
          "scattergl": [
           {
            "marker": {
             "colorbar": {
              "outlinewidth": 0,
              "ticks": ""
             }
            },
            "type": "scattergl"
           }
          ],
          "scattermap": [
           {
            "marker": {
             "colorbar": {
              "outlinewidth": 0,
              "ticks": ""
             }
            },
            "type": "scattermap"
           }
          ],
          "scattermapbox": [
           {
            "marker": {
             "colorbar": {
              "outlinewidth": 0,
              "ticks": ""
             }
            },
            "type": "scattermapbox"
           }
          ],
          "scatterpolar": [
           {
            "marker": {
             "colorbar": {
              "outlinewidth": 0,
              "ticks": ""
             }
            },
            "type": "scatterpolar"
           }
          ],
          "scatterpolargl": [
           {
            "marker": {
             "colorbar": {
              "outlinewidth": 0,
              "ticks": ""
             }
            },
            "type": "scatterpolargl"
           }
          ],
          "scatterternary": [
           {
            "marker": {
             "colorbar": {
              "outlinewidth": 0,
              "ticks": ""
             }
            },
            "type": "scatterternary"
           }
          ],
          "surface": [
           {
            "colorbar": {
             "outlinewidth": 0,
             "ticks": ""
            },
            "colorscale": [
             [
              0,
              "#0d0887"
             ],
             [
              0.1111111111111111,
              "#46039f"
             ],
             [
              0.2222222222222222,
              "#7201a8"
             ],
             [
              0.3333333333333333,
              "#9c179e"
             ],
             [
              0.4444444444444444,
              "#bd3786"
             ],
             [
              0.5555555555555556,
              "#d8576b"
             ],
             [
              0.6666666666666666,
              "#ed7953"
             ],
             [
              0.7777777777777778,
              "#fb9f3a"
             ],
             [
              0.8888888888888888,
              "#fdca26"
             ],
             [
              1,
              "#f0f921"
             ]
            ],
            "type": "surface"
           }
          ],
          "table": [
           {
            "cells": {
             "fill": {
              "color": "#EBF0F8"
             },
             "line": {
              "color": "white"
             }
            },
            "header": {
             "fill": {
              "color": "#C8D4E3"
             },
             "line": {
              "color": "white"
             }
            },
            "type": "table"
           }
          ]
         },
         "layout": {
          "annotationdefaults": {
           "arrowcolor": "#2a3f5f",
           "arrowhead": 0,
           "arrowwidth": 1
          },
          "autotypenumbers": "strict",
          "coloraxis": {
           "colorbar": {
            "outlinewidth": 0,
            "ticks": ""
           }
          },
          "colorscale": {
           "diverging": [
            [
             0,
             "#8e0152"
            ],
            [
             0.1,
             "#c51b7d"
            ],
            [
             0.2,
             "#de77ae"
            ],
            [
             0.3,
             "#f1b6da"
            ],
            [
             0.4,
             "#fde0ef"
            ],
            [
             0.5,
             "#f7f7f7"
            ],
            [
             0.6,
             "#e6f5d0"
            ],
            [
             0.7,
             "#b8e186"
            ],
            [
             0.8,
             "#7fbc41"
            ],
            [
             0.9,
             "#4d9221"
            ],
            [
             1,
             "#276419"
            ]
           ],
           "sequential": [
            [
             0,
             "#0d0887"
            ],
            [
             0.1111111111111111,
             "#46039f"
            ],
            [
             0.2222222222222222,
             "#7201a8"
            ],
            [
             0.3333333333333333,
             "#9c179e"
            ],
            [
             0.4444444444444444,
             "#bd3786"
            ],
            [
             0.5555555555555556,
             "#d8576b"
            ],
            [
             0.6666666666666666,
             "#ed7953"
            ],
            [
             0.7777777777777778,
             "#fb9f3a"
            ],
            [
             0.8888888888888888,
             "#fdca26"
            ],
            [
             1,
             "#f0f921"
            ]
           ],
           "sequentialminus": [
            [
             0,
             "#0d0887"
            ],
            [
             0.1111111111111111,
             "#46039f"
            ],
            [
             0.2222222222222222,
             "#7201a8"
            ],
            [
             0.3333333333333333,
             "#9c179e"
            ],
            [
             0.4444444444444444,
             "#bd3786"
            ],
            [
             0.5555555555555556,
             "#d8576b"
            ],
            [
             0.6666666666666666,
             "#ed7953"
            ],
            [
             0.7777777777777778,
             "#fb9f3a"
            ],
            [
             0.8888888888888888,
             "#fdca26"
            ],
            [
             1,
             "#f0f921"
            ]
           ]
          },
          "colorway": [
           "#636efa",
           "#EF553B",
           "#00cc96",
           "#ab63fa",
           "#FFA15A",
           "#19d3f3",
           "#FF6692",
           "#B6E880",
           "#FF97FF",
           "#FECB52"
          ],
          "font": {
           "color": "#2a3f5f"
          },
          "geo": {
           "bgcolor": "white",
           "lakecolor": "white",
           "landcolor": "white",
           "showlakes": true,
           "showland": true,
           "subunitcolor": "#C8D4E3"
          },
          "hoverlabel": {
           "align": "left"
          },
          "hovermode": "closest",
          "mapbox": {
           "style": "light"
          },
          "paper_bgcolor": "white",
          "plot_bgcolor": "white",
          "polar": {
           "angularaxis": {
            "gridcolor": "#EBF0F8",
            "linecolor": "#EBF0F8",
            "ticks": ""
           },
           "bgcolor": "white",
           "radialaxis": {
            "gridcolor": "#EBF0F8",
            "linecolor": "#EBF0F8",
            "ticks": ""
           }
          },
          "scene": {
           "xaxis": {
            "backgroundcolor": "white",
            "gridcolor": "#DFE8F3",
            "gridwidth": 2,
            "linecolor": "#EBF0F8",
            "showbackground": true,
            "ticks": "",
            "zerolinecolor": "#EBF0F8"
           },
           "yaxis": {
            "backgroundcolor": "white",
            "gridcolor": "#DFE8F3",
            "gridwidth": 2,
            "linecolor": "#EBF0F8",
            "showbackground": true,
            "ticks": "",
            "zerolinecolor": "#EBF0F8"
           },
           "zaxis": {
            "backgroundcolor": "white",
            "gridcolor": "#DFE8F3",
            "gridwidth": 2,
            "linecolor": "#EBF0F8",
            "showbackground": true,
            "ticks": "",
            "zerolinecolor": "#EBF0F8"
           }
          },
          "shapedefaults": {
           "line": {
            "color": "#2a3f5f"
           }
          },
          "ternary": {
           "aaxis": {
            "gridcolor": "#DFE8F3",
            "linecolor": "#A2B1C6",
            "ticks": ""
           },
           "baxis": {
            "gridcolor": "#DFE8F3",
            "linecolor": "#A2B1C6",
            "ticks": ""
           },
           "bgcolor": "white",
           "caxis": {
            "gridcolor": "#DFE8F3",
            "linecolor": "#A2B1C6",
            "ticks": ""
           }
          },
          "title": {
           "x": 0.05
          },
          "xaxis": {
           "automargin": true,
           "gridcolor": "#EBF0F8",
           "linecolor": "#EBF0F8",
           "ticks": "",
           "title": {
            "standoff": 15
           },
           "zerolinecolor": "#EBF0F8",
           "zerolinewidth": 2
          },
          "yaxis": {
           "automargin": true,
           "gridcolor": "#EBF0F8",
           "linecolor": "#EBF0F8",
           "ticks": "",
           "title": {
            "standoff": 15
           },
           "zerolinecolor": "#EBF0F8",
           "zerolinewidth": 2
          }
         }
        },
        "title": {
         "text": " Coffee Revenue by Product"
        },
        "xaxis": {
         "anchor": "y",
         "domain": [
          0,
          1
         ],
         "title": {
          "text": "money"
         }
        },
        "yaxis": {
         "anchor": "x",
         "categoryarray": [
          "Latte",
          "Hot Chocolate",
          "Espresso",
          "Cortado",
          "Cocoa",
          "Cappuccino",
          "Americano with Milk",
          "Americano"
         ],
         "categoryorder": "array",
         "domain": [
          0,
          1
         ],
         "title": {
          "text": "coffee_name"
         }
        }
       }
      },
      "image/png": "[encoded data removed]"
     },
     "metadata": {},
     "output_type": "display_data"
    }
   ],
   "source": [
    "# Define manual coffee color mapping\n",
    "coffee_color_map = {\n",
    "    \"Latte\": \"#A9746E\",          # Mocha\n",
    "    \"Americano\": \"#4B3832\",      # Dark roast\n",
    "    \"Americano with Milk\": \"#BE9B7B\",\n",
    "    \"Cappuccino\": \"#6F4E37\",     # Rich coffee brown (new, darker!)\n",
    "    \"Espresso\": \"#3C2F2F\",\n",
    "    \"Hot Chocolate\": \"#854442\",\n",
    "    \"Cocoa\": \"#D2B48C\",          # Light tan\n",
    "    \"Cortado\": \"#7B3F00\"         # Strong espresso brown\n",
    "}\n",
    "\n",
    "# --- Plot 1: Coffee Sales by Type ---\n",
    "fig1 = px.bar(\n",
    "    df.groupby(\"coffee_name\")[\"money\"].sum().reset_index(),\n",
    "    x=\"money\", y=\"coffee_name\",\n",
    "    orientation=\"h\",\n",
    "    color=\"coffee_name\",\n",
    "    color_discrete_map=coffee_color_map,  # <-- Manual mapping\n",
    "    title=\" Coffee Revenue by Product\"\n",
    "    )\n",
    "\n",
    "fig1.update_layout(\n",
    "    template=\"plotly_white\",\n",
    "    plot_bgcolor=\"#FFF4E6\",\n",
    "    paper_bgcolor=\"#FFF4E6\",\n",
    "    font=dict(color=\"#3C2F2F\", size=14)\n",
    ")\n",
    "\n",
    "fig1.show()\n"
   ]
  },
  {
   "cell_type": "code",
   "execution_count": 8,
   "id": "589fcdc0-5ca3-4aea-94a0-9696759a3a05",
   "metadata": {},
   "outputs": [
    {
     "data": {
      "application/vnd.plotly.v1+json": {
       "config": {
        "plotlyServerURL": "https://plot.ly"
       },
       "data": [
        {
         "hovertemplate": "month=%{x}<br>money=%{y}<extra></extra>",
         "legendgroup": "",
         "line": {
          "color": "#854442",
          "dash": "solid",
          "shape": "spline",
          "width": 3
         },
         "marker": {
          "symbol": "circle"
         },
         "mode": "lines+markers",
         "name": "",
         "orientation": "v",
         "showlegend": false,
         "type": "scatter",
         "x": [
          "2024-03",
          "2024-04",
          "2024-05",
          "2024-06",
          "2024-07"
         ],
         "xaxis": "x",
         "y": {
          "bdata": "MzMzMzOKu0DD9Shcj0C6QClcj8K1s8FA9ihcj8JOvkA+Ctej8AO7QA==",
          "dtype": "f8"
         },
         "yaxis": "y"
        }
       ],
       "layout": {
        "font": {
         "color": "#3C2F2F",
         "size": 14
        },
        "legend": {
         "tracegroupgap": 0
        },
        "paper_bgcolor": "#FFF4E6",
        "plot_bgcolor": "#FFF4E6",
        "template": {
         "data": {
          "bar": [
           {
            "error_x": {
             "color": "#2a3f5f"
            },
            "error_y": {
             "color": "#2a3f5f"
            },
            "marker": {
             "line": {
              "color": "white",
              "width": 0.5
             },
             "pattern": {
              "fillmode": "overlay",
              "size": 10,
              "solidity": 0.2
             }
            },
            "type": "bar"
           }
          ],
          "barpolar": [
           {
            "marker": {
             "line": {
              "color": "white",
              "width": 0.5
             },
             "pattern": {
              "fillmode": "overlay",
              "size": 10,
              "solidity": 0.2
             }
            },
            "type": "barpolar"
           }
          ],
          "carpet": [
           {
            "aaxis": {
             "endlinecolor": "#2a3f5f",
             "gridcolor": "#C8D4E3",
             "linecolor": "#C8D4E3",
             "minorgridcolor": "#C8D4E3",
             "startlinecolor": "#2a3f5f"
            },
            "baxis": {
             "endlinecolor": "#2a3f5f",
             "gridcolor": "#C8D4E3",
             "linecolor": "#C8D4E3",
             "minorgridcolor": "#C8D4E3",
             "startlinecolor": "#2a3f5f"
            },
            "type": "carpet"
           }
          ],
          "choropleth": [
           {
            "colorbar": {
             "outlinewidth": 0,
             "ticks": ""
            },
            "type": "choropleth"
           }
          ],
          "contour": [
           {
            "colorbar": {
             "outlinewidth": 0,
             "ticks": ""
            },
            "colorscale": [
             [
              0,
              "#0d0887"
             ],
             [
              0.1111111111111111,
              "#46039f"
             ],
             [
              0.2222222222222222,
              "#7201a8"
             ],
             [
              0.3333333333333333,
              "#9c179e"
             ],
             [
              0.4444444444444444,
              "#bd3786"
             ],
             [
              0.5555555555555556,
              "#d8576b"
             ],
             [
              0.6666666666666666,
              "#ed7953"
             ],
             [
              0.7777777777777778,
              "#fb9f3a"
             ],
             [
              0.8888888888888888,
              "#fdca26"
             ],
             [
              1,
              "#f0f921"
             ]
            ],
            "type": "contour"
           }
          ],
          "contourcarpet": [
           {
            "colorbar": {
             "outlinewidth": 0,
             "ticks": ""
            },
            "type": "contourcarpet"
           }
          ],
          "heatmap": [
           {
            "colorbar": {
             "outlinewidth": 0,
             "ticks": ""
            },
            "colorscale": [
             [
              0,
              "#0d0887"
             ],
             [
              0.1111111111111111,
              "#46039f"
             ],
             [
              0.2222222222222222,
              "#7201a8"
             ],
             [
              0.3333333333333333,
              "#9c179e"
             ],
             [
              0.4444444444444444,
              "#bd3786"
             ],
             [
              0.5555555555555556,
              "#d8576b"
             ],
             [
              0.6666666666666666,
              "#ed7953"
             ],
             [
              0.7777777777777778,
              "#fb9f3a"
             ],
             [
              0.8888888888888888,
              "#fdca26"
             ],
             [
              1,
              "#f0f921"
             ]
            ],
            "type": "heatmap"
           }
          ],
          "histogram": [
           {
            "marker": {
             "pattern": {
              "fillmode": "overlay",
              "size": 10,
              "solidity": 0.2
             }
            },
            "type": "histogram"
           }
          ],
          "histogram2d": [
           {
            "colorbar": {
             "outlinewidth": 0,
             "ticks": ""
            },
            "colorscale": [
             [
              0,
              "#0d0887"
             ],
             [
              0.1111111111111111,
              "#46039f"
             ],
             [
              0.2222222222222222,
              "#7201a8"
             ],
             [
              0.3333333333333333,
              "#9c179e"
             ],
             [
              0.4444444444444444,
              "#bd3786"
             ],
             [
              0.5555555555555556,
              "#d8576b"
             ],
             [
              0.6666666666666666,
              "#ed7953"
             ],
             [
              0.7777777777777778,
              "#fb9f3a"
             ],
             [
              0.8888888888888888,
              "#fdca26"
             ],
             [
              1,
              "#f0f921"
             ]
            ],
            "type": "histogram2d"
           }
          ],
          "histogram2dcontour": [
           {
            "colorbar": {
             "outlinewidth": 0,
             "ticks": ""
            },
            "colorscale": [
             [
              0,
              "#0d0887"
             ],
             [
              0.1111111111111111,
              "#46039f"
             ],
             [
              0.2222222222222222,
              "#7201a8"
             ],
             [
              0.3333333333333333,
              "#9c179e"
             ],
             [
              0.4444444444444444,
              "#bd3786"
             ],
             [
              0.5555555555555556,
              "#d8576b"
             ],
             [
              0.6666666666666666,
              "#ed7953"
             ],
             [
              0.7777777777777778,
              "#fb9f3a"
             ],
             [
              0.8888888888888888,
              "#fdca26"
             ],
             [
              1,
              "#f0f921"
             ]
            ],
            "type": "histogram2dcontour"
           }
          ],
          "mesh3d": [
           {
            "colorbar": {
             "outlinewidth": 0,
             "ticks": ""
            },
            "type": "mesh3d"
           }
          ],
          "parcoords": [
           {
            "line": {
             "colorbar": {
              "outlinewidth": 0,
              "ticks": ""
             }
            },
            "type": "parcoords"
           }
          ],
          "pie": [
           {
            "automargin": true,
            "type": "pie"
           }
          ],
          "scatter": [
           {
            "fillpattern": {
             "fillmode": "overlay",
             "size": 10,
             "solidity": 0.2
            },
            "type": "scatter"
           }
          ],
          "scatter3d": [
           {
            "line": {
             "colorbar": {
              "outlinewidth": 0,
              "ticks": ""
             }
            },
            "marker": {
             "colorbar": {
              "outlinewidth": 0,
              "ticks": ""
             }
            },
            "type": "scatter3d"
           }
          ],
          "scattercarpet": [
           {
            "marker": {
             "colorbar": {
              "outlinewidth": 0,
              "ticks": ""
             }
            },
            "type": "scattercarpet"
           }
          ],
          "scattergeo": [
           {
            "marker": {
             "colorbar": {
              "outlinewidth": 0,
              "ticks": ""
             }
            },
            "type": "scattergeo"
           }
          ],
          "scattergl": [
           {
            "marker": {
             "colorbar": {
              "outlinewidth": 0,
              "ticks": ""
             }
            },
            "type": "scattergl"
           }
          ],
          "scattermap": [
           {
            "marker": {
             "colorbar": {
              "outlinewidth": 0,
              "ticks": ""
             }
            },
            "type": "scattermap"
           }
          ],
          "scattermapbox": [
           {
            "marker": {
             "colorbar": {
              "outlinewidth": 0,
              "ticks": ""
             }
            },
            "type": "scattermapbox"
           }
          ],
          "scatterpolar": [
           {
            "marker": {
             "colorbar": {
              "outlinewidth": 0,
              "ticks": ""
             }
            },
            "type": "scatterpolar"
           }
          ],
          "scatterpolargl": [
           {
            "marker": {
             "colorbar": {
              "outlinewidth": 0,
              "ticks": ""
             }
            },
            "type": "scatterpolargl"
           }
          ],
          "scatterternary": [
           {
            "marker": {
             "colorbar": {
              "outlinewidth": 0,
              "ticks": ""
             }
            },
            "type": "scatterternary"
           }
          ],
          "surface": [
           {
            "colorbar": {
             "outlinewidth": 0,
             "ticks": ""
            },
            "colorscale": [
             [
              0,
              "#0d0887"
             ],
             [
              0.1111111111111111,
              "#46039f"
             ],
             [
              0.2222222222222222,
              "#7201a8"
             ],
             [
              0.3333333333333333,
              "#9c179e"
             ],
             [
              0.4444444444444444,
              "#bd3786"
             ],
             [
              0.5555555555555556,
              "#d8576b"
             ],
             [
              0.6666666666666666,
              "#ed7953"
             ],
             [
              0.7777777777777778,
              "#fb9f3a"
             ],
             [
              0.8888888888888888,
              "#fdca26"
             ],
             [
              1,
              "#f0f921"
             ]
            ],
            "type": "surface"
           }
          ],
          "table": [
           {
            "cells": {
             "fill": {
              "color": "#EBF0F8"
             },
             "line": {
              "color": "white"
             }
            },
            "header": {
             "fill": {
              "color": "#C8D4E3"
             },
             "line": {
              "color": "white"
             }
            },
            "type": "table"
           }
          ]
         },
         "layout": {
          "annotationdefaults": {
           "arrowcolor": "#2a3f5f",
           "arrowhead": 0,
           "arrowwidth": 1
          },
          "autotypenumbers": "strict",
          "coloraxis": {
           "colorbar": {
            "outlinewidth": 0,
            "ticks": ""
           }
          },
          "colorscale": {
           "diverging": [
            [
             0,
             "#8e0152"
            ],
            [
             0.1,
             "#c51b7d"
            ],
            [
             0.2,
             "#de77ae"
            ],
            [
             0.3,
             "#f1b6da"
            ],
            [
             0.4,
             "#fde0ef"
            ],
            [
             0.5,
             "#f7f7f7"
            ],
            [
             0.6,
             "#e6f5d0"
            ],
            [
             0.7,
             "#b8e186"
            ],
            [
             0.8,
             "#7fbc41"
            ],
            [
             0.9,
             "#4d9221"
            ],
            [
             1,
             "#276419"
            ]
           ],
           "sequential": [
            [
             0,
             "#0d0887"
            ],
            [
             0.1111111111111111,
             "#46039f"
            ],
            [
             0.2222222222222222,
             "#7201a8"
            ],
            [
             0.3333333333333333,
             "#9c179e"
            ],
            [
             0.4444444444444444,
             "#bd3786"
            ],
            [
             0.5555555555555556,
             "#d8576b"
            ],
            [
             0.6666666666666666,
             "#ed7953"
            ],
            [
             0.7777777777777778,
             "#fb9f3a"
            ],
            [
             0.8888888888888888,
             "#fdca26"
            ],
            [
             1,
             "#f0f921"
            ]
           ],
           "sequentialminus": [
            [
             0,
             "#0d0887"
            ],
            [
             0.1111111111111111,
             "#46039f"
            ],
            [
             0.2222222222222222,
             "#7201a8"
            ],
            [
             0.3333333333333333,
             "#9c179e"
            ],
            [
             0.4444444444444444,
             "#bd3786"
            ],
            [
             0.5555555555555556,
             "#d8576b"
            ],
            [
             0.6666666666666666,
             "#ed7953"
            ],
            [
             0.7777777777777778,
             "#fb9f3a"
            ],
            [
             0.8888888888888888,
             "#fdca26"
            ],
            [
             1,
             "#f0f921"
            ]
           ]
          },
          "colorway": [
           "#636efa",
           "#EF553B",
           "#00cc96",
           "#ab63fa",
           "#FFA15A",
           "#19d3f3",
           "#FF6692",
           "#B6E880",
           "#FF97FF",
           "#FECB52"
          ],
          "font": {
           "color": "#2a3f5f"
          },
          "geo": {
           "bgcolor": "white",
           "lakecolor": "white",
           "landcolor": "white",
           "showlakes": true,
           "showland": true,
           "subunitcolor": "#C8D4E3"
          },
          "hoverlabel": {
           "align": "left"
          },
          "hovermode": "closest",
          "mapbox": {
           "style": "light"
          },
          "paper_bgcolor": "white",
          "plot_bgcolor": "white",
          "polar": {
           "angularaxis": {
            "gridcolor": "#EBF0F8",
            "linecolor": "#EBF0F8",
            "ticks": ""
           },
           "bgcolor": "white",
           "radialaxis": {
            "gridcolor": "#EBF0F8",
            "linecolor": "#EBF0F8",
            "ticks": ""
           }
          },
          "scene": {
           "xaxis": {
            "backgroundcolor": "white",
            "gridcolor": "#DFE8F3",
            "gridwidth": 2,
            "linecolor": "#EBF0F8",
            "showbackground": true,
            "ticks": "",
            "zerolinecolor": "#EBF0F8"
           },
           "yaxis": {
            "backgroundcolor": "white",
            "gridcolor": "#DFE8F3",
            "gridwidth": 2,
            "linecolor": "#EBF0F8",
            "showbackground": true,
            "ticks": "",
            "zerolinecolor": "#EBF0F8"
           },
           "zaxis": {
            "backgroundcolor": "white",
            "gridcolor": "#DFE8F3",
            "gridwidth": 2,
            "linecolor": "#EBF0F8",
            "showbackground": true,
            "ticks": "",
            "zerolinecolor": "#EBF0F8"
           }
          },
          "shapedefaults": {
           "line": {
            "color": "#2a3f5f"
           }
          },
          "ternary": {
           "aaxis": {
            "gridcolor": "#DFE8F3",
            "linecolor": "#A2B1C6",
            "ticks": ""
           },
           "baxis": {
            "gridcolor": "#DFE8F3",
            "linecolor": "#A2B1C6",
            "ticks": ""
           },
           "bgcolor": "white",
           "caxis": {
            "gridcolor": "#DFE8F3",
            "linecolor": "#A2B1C6",
            "ticks": ""
           }
          },
          "title": {
           "x": 0.05
          },
          "xaxis": {
           "automargin": true,
           "gridcolor": "#EBF0F8",
           "linecolor": "#EBF0F8",
           "ticks": "",
           "title": {
            "standoff": 15
           },
           "zerolinecolor": "#EBF0F8",
           "zerolinewidth": 2
          },
          "yaxis": {
           "automargin": true,
           "gridcolor": "#EBF0F8",
           "linecolor": "#EBF0F8",
           "ticks": "",
           "title": {
            "standoff": 15
           },
           "zerolinecolor": "#EBF0F8",
           "zerolinewidth": 2
          }
         }
        },
        "title": {
         "text": " Monthly Coffee Sales Trend"
        },
        "xaxis": {
         "anchor": "y",
         "domain": [
          0,
          1
         ],
         "title": {
          "text": "month"
         }
        },
        "yaxis": {
         "anchor": "x",
         "domain": [
          0,
          1
         ],
         "title": {
          "text": "money"
         }
        }
       }
      },
      "image/png": "[encoded data removed]"
     },
     "metadata": {},
     "output_type": "display_data"
    }
   ],
   "source": [
    "# --- Plot 2: Monthly Sales Trend ---\n",
    "fig2 = px.line(\n",
    "    df.groupby(\"month\")[\"money\"].sum().reset_index(),\n",
    "    x=\"month\", y=\"money\",\n",
    "    markers=True,\n",
    "    title=\" Monthly Coffee Sales Trend\",\n",
    "    line_shape=\"spline\"\n",
    ")\n",
    "fig2.update_traces(line=dict(color=\"#854442\", width=3))\n",
    "fig2.update_layout(\n",
    "    template=\"plotly_white\",\n",
    "    plot_bgcolor=\"#FFF4E6\",\n",
    "    paper_bgcolor=\"#FFF4E6\",\n",
    "    font=dict(color=\"#3C2F2F\", size=14)\n",
    ")"
   ]
  },
  {
   "cell_type": "code",
   "execution_count": 9,
   "id": "46c7df3b-b320-41b9-81aa-c6cc881aff61",
   "metadata": {},
   "outputs": [
    {
     "data": {
      "application/vnd.plotly.v1+json": {
       "config": {
        "plotlyServerURL": "https://plot.ly"
       },
       "data": [
        {
         "hovertemplate": "color=7<br>hour=%{x}<br>money=%{y}<extra></extra>",
         "legendgroup": "7",
         "marker": {
          "color": "#3C2F2F",
          "pattern": {
           "shape": ""
          }
         },
         "name": "7",
         "orientation": "v",
         "showlegend": true,
         "textposition": "auto",
         "type": "bar",
         "x": {
          "bdata": "BwAAAA==",
          "dtype": "i4"
         },
         "xaxis": "x",
         "y": {
          "bdata": "zczMzMyMeEA=",
          "dtype": "f8"
         },
         "yaxis": "y"
        },
        {
         "hovertemplate": "color=8<br>hour=%{x}<br>money=%{y}<extra></extra>",
         "legendgroup": "8",
         "marker": {
          "color": "#6F4E37",
          "pattern": {
           "shape": ""
          }
         },
         "name": "8",
         "orientation": "v",
         "showlegend": true,
         "textposition": "auto",
         "type": "bar",
         "x": {
          "bdata": "CAAAAA==",
          "dtype": "i4"
         },
         "xaxis": "x",
         "y": {
          "bdata": "7FG4HoWRlUA=",
          "dtype": "f8"
         },
         "yaxis": "y"
        },
        {
         "hovertemplate": "color=9<br>hour=%{x}<br>money=%{y}<extra></extra>",
         "legendgroup": "9",
         "marker": {
          "color": "#7B3F00",
          "pattern": {
           "shape": ""
          }
         },
         "name": "9",
         "orientation": "v",
         "showlegend": true,
         "textposition": "auto",
         "type": "bar",
         "x": {
          "bdata": "CQAAAA==",
          "dtype": "i4"
         },
         "xaxis": "x",
         "y": {
          "bdata": "Urgeheutl0A=",
          "dtype": "f8"
         },
         "yaxis": "y"
        },
        {
         "hovertemplate": "color=10<br>hour=%{x}<br>money=%{y}<extra></extra>",
         "legendgroup": "10",
         "marker": {
          "color": "#8B5A2B",
          "pattern": {
           "shape": ""
          }
         },
         "name": "10",
         "orientation": "v",
         "showlegend": true,
         "textposition": "auto",
         "type": "bar",
         "x": {
          "bdata": "CgAAAA==",
          "dtype": "i4"
         },
         "xaxis": "x",
         "y": {
          "bdata": "SOF6FC7JsUA=",
          "dtype": "f8"
         },
         "yaxis": "y"
        },
        {
         "hovertemplate": "color=11<br>hour=%{x}<br>money=%{y}<extra></extra>",
         "legendgroup": "11",
         "marker": {
          "color": "#A9746E",
          "pattern": {
           "shape": ""
          }
         },
         "name": "11",
         "orientation": "v",
         "showlegend": true,
         "textposition": "auto",
         "type": "bar",
         "x": {
          "bdata": "CwAAAA==",
          "dtype": "i4"
         },
         "xaxis": "x",
         "y": {
          "bdata": "4XoUrkd1qUA=",
          "dtype": "f8"
         },
         "yaxis": "y"
        },
        {
         "hovertemplate": "color=12<br>hour=%{x}<br>money=%{y}<extra></extra>",
         "legendgroup": "12",
         "marker": {
          "color": "#BE9B7B",
          "pattern": {
           "shape": ""
          }
         },
         "name": "12",
         "orientation": "v",
         "showlegend": true,
         "textposition": "auto",
         "type": "bar",
         "x": {
          "bdata": "DAAAAA==",
          "dtype": "i4"
         },
         "xaxis": "x",
         "y": {
          "bdata": "MzMzMzNFpkA=",
          "dtype": "f8"
         },
         "yaxis": "y"
        },
        {
         "hovertemplate": "color=13<br>hour=%{x}<br>money=%{y}<extra></extra>",
         "legendgroup": "13",
         "marker": {
          "color": "#D2B48C",
          "pattern": {
           "shape": ""
          }
         },
         "name": "13",
         "orientation": "v",
         "showlegend": true,
         "textposition": "auto",
         "type": "bar",
         "x": {
          "bdata": "DQAAAA==",
          "dtype": "i4"
         },
         "xaxis": "x",
         "y": {
          "bdata": "MzMzMzOfo0A=",
          "dtype": "f8"
         },
         "yaxis": "y"
        },
        {
         "hovertemplate": "color=14<br>hour=%{x}<br>money=%{y}<extra></extra>",
         "legendgroup": "14",
         "marker": {
          "color": "#E6D3B3",
          "pattern": {
           "shape": ""
          }
         },
         "name": "14",
         "orientation": "v",
         "showlegend": true,
         "textposition": "auto",
         "type": "bar",
         "x": {
          "bdata": "DgAAAA==",
          "dtype": "i4"
         },
         "xaxis": "x",
         "y": {
          "bdata": "pHA9Ctdpo0A=",
          "dtype": "f8"
         },
         "yaxis": "y"
        },
        {
         "hovertemplate": "color=15<br>hour=%{x}<br>money=%{y}<extra></extra>",
         "legendgroup": "15",
         "marker": {
          "color": "#3C2F2F",
          "pattern": {
           "shape": ""
          }
         },
         "name": "15",
         "orientation": "v",
         "showlegend": true,
         "textposition": "auto",
         "type": "bar",
         "x": {
          "bdata": "DwAAAA==",
          "dtype": "i4"
         },
         "xaxis": "x",
         "y": {
          "bdata": "7FG4HoXdoEA=",
          "dtype": "f8"
         },
         "yaxis": "y"
        },
        {
         "hovertemplate": "color=16<br>hour=%{x}<br>money=%{y}<extra></extra>",
         "legendgroup": "16",
         "marker": {
          "color": "#6F4E37",
          "pattern": {
           "shape": ""
          }
         },
         "name": "16",
         "orientation": "v",
         "showlegend": true,
         "textposition": "auto",
         "type": "bar",
         "x": {
          "bdata": "EAAAAA==",
          "dtype": "i4"
         },
         "xaxis": "x",
         "y": {
          "bdata": "H4XrUbi6o0A=",
          "dtype": "f8"
         },
         "yaxis": "y"
        },
        {
         "hovertemplate": "color=17<br>hour=%{x}<br>money=%{y}<extra></extra>",
         "legendgroup": "17",
         "marker": {
          "color": "#7B3F00",
          "pattern": {
           "shape": ""
          }
         },
         "name": "17",
         "orientation": "v",
         "showlegend": true,
         "textposition": "auto",
         "type": "bar",
         "x": {
          "bdata": "EQAAAA==",
          "dtype": "i4"
         },
         "xaxis": "x",
         "y": {
          "bdata": "XI/C9SiepEA=",
          "dtype": "f8"
         },
         "yaxis": "y"
        },
        {
         "hovertemplate": "color=18<br>hour=%{x}<br>money=%{y}<extra></extra>",
         "legendgroup": "18",
         "marker": {
          "color": "#8B5A2B",
          "pattern": {
           "shape": ""
          }
         },
         "name": "18",
         "orientation": "v",
         "showlegend": true,
         "textposition": "auto",
         "type": "bar",
         "x": {
          "bdata": "EgAAAA==",
          "dtype": "i4"
         },
         "xaxis": "x",
         "y": {
          "bdata": "rkfhehT8o0A=",
          "dtype": "f8"
         },
         "yaxis": "y"
        },
        {
         "hovertemplate": "color=19<br>hour=%{x}<br>money=%{y}<extra></extra>",
         "legendgroup": "19",
         "marker": {
          "color": "#A9746E",
          "pattern": {
           "shape": ""
          }
         },
         "name": "19",
         "orientation": "v",
         "showlegend": true,
         "textposition": "auto",
         "type": "bar",
         "x": {
          "bdata": "EwAAAA==",
          "dtype": "i4"
         },
         "xaxis": "x",
         "y": {
          "bdata": "cT0K16N4qkA=",
          "dtype": "f8"
         },
         "yaxis": "y"
        },
        {
         "hovertemplate": "color=20<br>hour=%{x}<br>money=%{y}<extra></extra>",
         "legendgroup": "20",
         "marker": {
          "color": "#BE9B7B",
          "pattern": {
           "shape": ""
          }
         },
         "name": "20",
         "orientation": "v",
         "showlegend": true,
         "textposition": "auto",
         "type": "bar",
         "x": {
          "bdata": "FAAAAA==",
          "dtype": "i4"
         },
         "xaxis": "x",
         "y": {
          "bdata": "SOF6FK5vnEA=",
          "dtype": "f8"
         },
         "yaxis": "y"
        },
        {
         "hovertemplate": "color=21<br>hour=%{x}<br>money=%{y}<extra></extra>",
         "legendgroup": "21",
         "marker": {
          "color": "#D2B48C",
          "pattern": {
           "shape": ""
          }
         },
         "name": "21",
         "orientation": "v",
         "showlegend": true,
         "textposition": "auto",
         "type": "bar",
         "x": {
          "bdata": "FQAAAA==",
          "dtype": "i4"
         },
         "xaxis": "x",
         "y": {
          "bdata": "H4XrUbhPokA=",
          "dtype": "f8"
         },
         "yaxis": "y"
        },
        {
         "hovertemplate": "color=22<br>hour=%{x}<br>money=%{y}<extra></extra>",
         "legendgroup": "22",
         "marker": {
          "color": "#E6D3B3",
          "pattern": {
           "shape": ""
          }
         },
         "name": "22",
         "orientation": "v",
         "showlegend": true,
         "textposition": "auto",
         "type": "bar",
         "x": {
          "bdata": "FgAAAA==",
          "dtype": "i4"
         },
         "xaxis": "x",
         "y": {
          "bdata": "9ihcj8KfkUA=",
          "dtype": "f8"
         },
         "yaxis": "y"
        }
       ],
       "layout": {
        "barmode": "relative",
        "font": {
         "color": "#3C2F2F",
         "size": 14
        },
        "legend": {
         "title": {
          "text": "color"
         },
         "tracegroupgap": 0
        },
        "paper_bgcolor": "#FFF4E6",
        "plot_bgcolor": "#FFF4E6",
        "showlegend": false,
        "template": {
         "data": {
          "bar": [
           {
            "error_x": {
             "color": "#2a3f5f"
            },
            "error_y": {
             "color": "#2a3f5f"
            },
            "marker": {
             "line": {
              "color": "white",
              "width": 0.5
             },
             "pattern": {
              "fillmode": "overlay",
              "size": 10,
              "solidity": 0.2
             }
            },
            "type": "bar"
           }
          ],
          "barpolar": [
           {
            "marker": {
             "line": {
              "color": "white",
              "width": 0.5
             },
             "pattern": {
              "fillmode": "overlay",
              "size": 10,
              "solidity": 0.2
             }
            },
            "type": "barpolar"
           }
          ],
          "carpet": [
           {
            "aaxis": {
             "endlinecolor": "#2a3f5f",
             "gridcolor": "#C8D4E3",
             "linecolor": "#C8D4E3",
             "minorgridcolor": "#C8D4E3",
             "startlinecolor": "#2a3f5f"
            },
            "baxis": {
             "endlinecolor": "#2a3f5f",
             "gridcolor": "#C8D4E3",
             "linecolor": "#C8D4E3",
             "minorgridcolor": "#C8D4E3",
             "startlinecolor": "#2a3f5f"
            },
            "type": "carpet"
           }
          ],
          "choropleth": [
           {
            "colorbar": {
             "outlinewidth": 0,
             "ticks": ""
            },
            "type": "choropleth"
           }
          ],
          "contour": [
           {
            "colorbar": {
             "outlinewidth": 0,
             "ticks": ""
            },
            "colorscale": [
             [
              0,
              "#0d0887"
             ],
             [
              0.1111111111111111,
              "#46039f"
             ],
             [
              0.2222222222222222,
              "#7201a8"
             ],
             [
              0.3333333333333333,
              "#9c179e"
             ],
             [
              0.4444444444444444,
              "#bd3786"
             ],
             [
              0.5555555555555556,
              "#d8576b"
             ],
             [
              0.6666666666666666,
              "#ed7953"
             ],
             [
              0.7777777777777778,
              "#fb9f3a"
             ],
             [
              0.8888888888888888,
              "#fdca26"
             ],
             [
              1,
              "#f0f921"
             ]
            ],
            "type": "contour"
           }
          ],
          "contourcarpet": [
           {
            "colorbar": {
             "outlinewidth": 0,
             "ticks": ""
            },
            "type": "contourcarpet"
           }
          ],
          "heatmap": [
           {
            "colorbar": {
             "outlinewidth": 0,
             "ticks": ""
            },
            "colorscale": [
             [
              0,
              "#0d0887"
             ],
             [
              0.1111111111111111,
              "#46039f"
             ],
             [
              0.2222222222222222,
              "#7201a8"
             ],
             [
              0.3333333333333333,
              "#9c179e"
             ],
             [
              0.4444444444444444,
              "#bd3786"
             ],
             [
              0.5555555555555556,
              "#d8576b"
             ],
             [
              0.6666666666666666,
              "#ed7953"
             ],
             [
              0.7777777777777778,
              "#fb9f3a"
             ],
             [
              0.8888888888888888,
              "#fdca26"
             ],
             [
              1,
              "#f0f921"
             ]
            ],
            "type": "heatmap"
           }
          ],
          "histogram": [
           {
            "marker": {
             "pattern": {
              "fillmode": "overlay",
              "size": 10,
              "solidity": 0.2
             }
            },
            "type": "histogram"
           }
          ],
          "histogram2d": [
           {
            "colorbar": {
             "outlinewidth": 0,
             "ticks": ""
            },
            "colorscale": [
             [
              0,
              "#0d0887"
             ],
             [
              0.1111111111111111,
              "#46039f"
             ],
             [
              0.2222222222222222,
              "#7201a8"
             ],
             [
              0.3333333333333333,
              "#9c179e"
             ],
             [
              0.4444444444444444,
              "#bd3786"
             ],
             [
              0.5555555555555556,
              "#d8576b"
             ],
             [
              0.6666666666666666,
              "#ed7953"
             ],
             [
              0.7777777777777778,
              "#fb9f3a"
             ],
             [
              0.8888888888888888,
              "#fdca26"
             ],
             [
              1,
              "#f0f921"
             ]
            ],
            "type": "histogram2d"
           }
          ],
          "histogram2dcontour": [
           {
            "colorbar": {
             "outlinewidth": 0,
             "ticks": ""
            },
            "colorscale": [
             [
              0,
              "#0d0887"
             ],
             [
              0.1111111111111111,
              "#46039f"
             ],
             [
              0.2222222222222222,
              "#7201a8"
             ],
             [
              0.3333333333333333,
              "#9c179e"
             ],
             [
              0.4444444444444444,
              "#bd3786"
             ],
             [
              0.5555555555555556,
              "#d8576b"
             ],
             [
              0.6666666666666666,
              "#ed7953"
             ],
             [
              0.7777777777777778,
              "#fb9f3a"
             ],
             [
              0.8888888888888888,
              "#fdca26"
             ],
             [
              1,
              "#f0f921"
             ]
            ],
            "type": "histogram2dcontour"
           }
          ],
          "mesh3d": [
           {
            "colorbar": {
             "outlinewidth": 0,
             "ticks": ""
            },
            "type": "mesh3d"
           }
          ],
          "parcoords": [
           {
            "line": {
             "colorbar": {
              "outlinewidth": 0,
              "ticks": ""
             }
            },
            "type": "parcoords"
           }
          ],
          "pie": [
           {
            "automargin": true,
            "type": "pie"
           }
          ],
          "scatter": [
           {
            "fillpattern": {
             "fillmode": "overlay",
             "size": 10,
             "solidity": 0.2
            },
            "type": "scatter"
           }
          ],
          "scatter3d": [
           {
            "line": {
             "colorbar": {
              "outlinewidth": 0,
              "ticks": ""
             }
            },
            "marker": {
             "colorbar": {
              "outlinewidth": 0,
              "ticks": ""
             }
            },
            "type": "scatter3d"
           }
          ],
          "scattercarpet": [
           {
            "marker": {
             "colorbar": {
              "outlinewidth": 0,
              "ticks": ""
             }
            },
            "type": "scattercarpet"
           }
          ],
          "scattergeo": [
           {
            "marker": {
             "colorbar": {
              "outlinewidth": 0,
              "ticks": ""
             }
            },
            "type": "scattergeo"
           }
          ],
          "scattergl": [
           {
            "marker": {
             "colorbar": {
              "outlinewidth": 0,
              "ticks": ""
             }
            },
            "type": "scattergl"
           }
          ],
          "scattermap": [
           {
            "marker": {
             "colorbar": {
              "outlinewidth": 0,
              "ticks": ""
             }
            },
            "type": "scattermap"
           }
          ],
          "scattermapbox": [
           {
            "marker": {
             "colorbar": {
              "outlinewidth": 0,
              "ticks": ""
             }
            },
            "type": "scattermapbox"
           }
          ],
          "scatterpolar": [
           {
            "marker": {
             "colorbar": {
              "outlinewidth": 0,
              "ticks": ""
             }
            },
            "type": "scatterpolar"
           }
          ],
          "scatterpolargl": [
           {
            "marker": {
             "colorbar": {
              "outlinewidth": 0,
              "ticks": ""
             }
            },
            "type": "scatterpolargl"
           }
          ],
          "scatterternary": [
           {
            "marker": {
             "colorbar": {
              "outlinewidth": 0,
              "ticks": ""
             }
            },
            "type": "scatterternary"
           }
          ],
          "surface": [
           {
            "colorbar": {
             "outlinewidth": 0,
             "ticks": ""
            },
            "colorscale": [
             [
              0,
              "#0d0887"
             ],
             [
              0.1111111111111111,
              "#46039f"
             ],
             [
              0.2222222222222222,
              "#7201a8"
             ],
             [
              0.3333333333333333,
              "#9c179e"
             ],
             [
              0.4444444444444444,
              "#bd3786"
             ],
             [
              0.5555555555555556,
              "#d8576b"
             ],
             [
              0.6666666666666666,
              "#ed7953"
             ],
             [
              0.7777777777777778,
              "#fb9f3a"
             ],
             [
              0.8888888888888888,
              "#fdca26"
             ],
             [
              1,
              "#f0f921"
             ]
            ],
            "type": "surface"
           }
          ],
          "table": [
           {
            "cells": {
             "fill": {
              "color": "#EBF0F8"
             },
             "line": {
              "color": "white"
             }
            },
            "header": {
             "fill": {
              "color": "#C8D4E3"
             },
             "line": {
              "color": "white"
             }
            },
            "type": "table"
           }
          ]
         },
         "layout": {
          "annotationdefaults": {
           "arrowcolor": "#2a3f5f",
           "arrowhead": 0,
           "arrowwidth": 1
          },
          "autotypenumbers": "strict",
          "coloraxis": {
           "colorbar": {
            "outlinewidth": 0,
            "ticks": ""
           }
          },
          "colorscale": {
           "diverging": [
            [
             0,
             "#8e0152"
            ],
            [
             0.1,
             "#c51b7d"
            ],
            [
             0.2,
             "#de77ae"
            ],
            [
             0.3,
             "#f1b6da"
            ],
            [
             0.4,
             "#fde0ef"
            ],
            [
             0.5,
             "#f7f7f7"
            ],
            [
             0.6,
             "#e6f5d0"
            ],
            [
             0.7,
             "#b8e186"
            ],
            [
             0.8,
             "#7fbc41"
            ],
            [
             0.9,
             "#4d9221"
            ],
            [
             1,
             "#276419"
            ]
           ],
           "sequential": [
            [
             0,
             "#0d0887"
            ],
            [
             0.1111111111111111,
             "#46039f"
            ],
            [
             0.2222222222222222,
             "#7201a8"
            ],
            [
             0.3333333333333333,
             "#9c179e"
            ],
            [
             0.4444444444444444,
             "#bd3786"
            ],
            [
             0.5555555555555556,
             "#d8576b"
            ],
            [
             0.6666666666666666,
             "#ed7953"
            ],
            [
             0.7777777777777778,
             "#fb9f3a"
            ],
            [
             0.8888888888888888,
             "#fdca26"
            ],
            [
             1,
             "#f0f921"
            ]
           ],
           "sequentialminus": [
            [
             0,
             "#0d0887"
            ],
            [
             0.1111111111111111,
             "#46039f"
            ],
            [
             0.2222222222222222,
             "#7201a8"
            ],
            [
             0.3333333333333333,
             "#9c179e"
            ],
            [
             0.4444444444444444,
             "#bd3786"
            ],
            [
             0.5555555555555556,
             "#d8576b"
            ],
            [
             0.6666666666666666,
             "#ed7953"
            ],
            [
             0.7777777777777778,
             "#fb9f3a"
            ],
            [
             0.8888888888888888,
             "#fdca26"
            ],
            [
             1,
             "#f0f921"
            ]
           ]
          },
          "colorway": [
           "#636efa",
           "#EF553B",
           "#00cc96",
           "#ab63fa",
           "#FFA15A",
           "#19d3f3",
           "#FF6692",
           "#B6E880",
           "#FF97FF",
           "#FECB52"
          ],
          "font": {
           "color": "#2a3f5f"
          },
          "geo": {
           "bgcolor": "white",
           "lakecolor": "white",
           "landcolor": "white",
           "showlakes": true,
           "showland": true,
           "subunitcolor": "#C8D4E3"
          },
          "hoverlabel": {
           "align": "left"
          },
          "hovermode": "closest",
          "mapbox": {
           "style": "light"
          },
          "paper_bgcolor": "white",
          "plot_bgcolor": "white",
          "polar": {
           "angularaxis": {
            "gridcolor": "#EBF0F8",
            "linecolor": "#EBF0F8",
            "ticks": ""
           },
           "bgcolor": "white",
           "radialaxis": {
            "gridcolor": "#EBF0F8",
            "linecolor": "#EBF0F8",
            "ticks": ""
           }
          },
          "scene": {
           "xaxis": {
            "backgroundcolor": "white",
            "gridcolor": "#DFE8F3",
            "gridwidth": 2,
            "linecolor": "#EBF0F8",
            "showbackground": true,
            "ticks": "",
            "zerolinecolor": "#EBF0F8"
           },
           "yaxis": {
            "backgroundcolor": "white",
            "gridcolor": "#DFE8F3",
            "gridwidth": 2,
            "linecolor": "#EBF0F8",
            "showbackground": true,
            "ticks": "",
            "zerolinecolor": "#EBF0F8"
           },
           "zaxis": {
            "backgroundcolor": "white",
            "gridcolor": "#DFE8F3",
            "gridwidth": 2,
            "linecolor": "#EBF0F8",
            "showbackground": true,
            "ticks": "",
            "zerolinecolor": "#EBF0F8"
           }
          },
          "shapedefaults": {
           "line": {
            "color": "#2a3f5f"
           }
          },
          "ternary": {
           "aaxis": {
            "gridcolor": "#DFE8F3",
            "linecolor": "#A2B1C6",
            "ticks": ""
           },
           "baxis": {
            "gridcolor": "#DFE8F3",
            "linecolor": "#A2B1C6",
            "ticks": ""
           },
           "bgcolor": "white",
           "caxis": {
            "gridcolor": "#DFE8F3",
            "linecolor": "#A2B1C6",
            "ticks": ""
           }
          },
          "title": {
           "x": 0.05
          },
          "xaxis": {
           "automargin": true,
           "gridcolor": "#EBF0F8",
           "linecolor": "#EBF0F8",
           "ticks": "",
           "title": {
            "standoff": 15
           },
           "zerolinecolor": "#EBF0F8",
           "zerolinewidth": 2
          },
          "yaxis": {
           "automargin": true,
           "gridcolor": "#EBF0F8",
           "linecolor": "#EBF0F8",
           "ticks": "",
           "title": {
            "standoff": 15
           },
           "zerolinecolor": "#EBF0F8",
           "zerolinewidth": 2
          }
         }
        },
        "title": {
         "text": " Coffee Sales by Hour of Day"
        },
        "xaxis": {
         "anchor": "y",
         "domain": [
          0,
          1
         ],
         "title": {
          "text": "hour"
         }
        },
        "yaxis": {
         "anchor": "x",
         "domain": [
          0,
          1
         ],
         "title": {
          "text": "money"
         }
        }
       }
      },
      "image/png": "[encoded data removed]"
     },
     "metadata": {},
     "output_type": "display_data"
    }
   ],
   "source": [
    "# Define a coffee color palette (dark → light)\n",
    "coffee_palette = [\n",
    "    \"#3C2F2F\",  # Espresso\n",
    "    \"#6F4E37\",  # Cappuccino\n",
    "    \"#7B3F00\",  # Mocha\n",
    "    \"#8B5A2B\",  # Caramel\n",
    "    \"#A9746E\",  # Latte\n",
    "    \"#BE9B7B\",  # Coffee with milk\n",
    "    \"#D2B48C\",  # Macchiato\n",
    "    \"#E6D3B3\"   # Cream\n",
    "]\n",
    "\n",
    "# --- Plot 3: Hourly Sales Pattern (Coffee colors only) ---\n",
    "hourly_sales = df.groupby(\"hour\")[\"money\"].sum().reset_index()\n",
    "\n",
    "fig3 = px.bar(\n",
    "    hourly_sales,\n",
    "    x=\"hour\", y=\"money\",\n",
    "    title=\" Coffee Sales by Hour of Day\",\n",
    "    color=hourly_sales[\"hour\"].astype(str),  # treat hour as category\n",
    "    color_discrete_sequence=coffee_palette   # fixed coffee palette\n",
    ")\n",
    "fig3.update_layout(\n",
    "    template=\"plotly_white\",\n",
    "    plot_bgcolor=\"#FFF4E6\",\n",
    "    paper_bgcolor=\"#FFF4E6\",\n",
    "    font=dict(color=\"#3C2F2F\", size=14),\n",
    "    showlegend=False\n",
    ")"
   ]
  },
  {
   "cell_type": "code",
   "execution_count": 10,
   "id": "93c5a6e2-902b-4744-8208-7544e3370b19",
   "metadata": {},
   "outputs": [
    {
     "data": {
      "application/vnd.plotly.v1+json": {
       "config": {
        "plotlyServerURL": "https://plot.ly"
       },
       "data": [
        {
         "customdata": [
          [
           "card"
          ],
          [
           "cash"
          ]
         ],
         "domain": {
          "x": [
           0,
           1
          ],
          "y": [
           0,
           1
          ]
         },
         "hovertemplate": "cash_type=%{customdata[0]}<br>money=%{value}<extra></extra>",
         "labels": [
          "card",
          "cash"
         ],
         "legendgroup": "",
         "marker": {
          "colors": [
           "#6F4E37",
           "#D2B48C"
          ]
         },
         "name": "",
         "showlegend": true,
         "type": "pie",
         "values": {
          "bdata": "j8L1KFzC4EAAAAAAAOSoQA==",
          "dtype": "f8"
         }
        }
       ],
       "layout": {
        "font": {
         "color": "#3C2F2F",
         "size": 14
        },
        "legend": {
         "tracegroupgap": 0
        },
        "paper_bgcolor": "#FFF4E6",
        "template": {
         "data": {
          "bar": [
           {
            "error_x": {
             "color": "#2a3f5f"
            },
            "error_y": {
             "color": "#2a3f5f"
            },
            "marker": {
             "line": {
              "color": "white",
              "width": 0.5
             },
             "pattern": {
              "fillmode": "overlay",
              "size": 10,
              "solidity": 0.2
             }
            },
            "type": "bar"
           }
          ],
          "barpolar": [
           {
            "marker": {
             "line": {
              "color": "white",
              "width": 0.5
             },
             "pattern": {
              "fillmode": "overlay",
              "size": 10,
              "solidity": 0.2
             }
            },
            "type": "barpolar"
           }
          ],
          "carpet": [
           {
            "aaxis": {
             "endlinecolor": "#2a3f5f",
             "gridcolor": "#C8D4E3",
             "linecolor": "#C8D4E3",
             "minorgridcolor": "#C8D4E3",
             "startlinecolor": "#2a3f5f"
            },
            "baxis": {
             "endlinecolor": "#2a3f5f",
             "gridcolor": "#C8D4E3",
             "linecolor": "#C8D4E3",
             "minorgridcolor": "#C8D4E3",
             "startlinecolor": "#2a3f5f"
            },
            "type": "carpet"
           }
          ],
          "choropleth": [
           {
            "colorbar": {
             "outlinewidth": 0,
             "ticks": ""
            },
            "type": "choropleth"
           }
          ],
          "contour": [
           {
            "colorbar": {
             "outlinewidth": 0,
             "ticks": ""
            },
            "colorscale": [
             [
              0,
              "#0d0887"
             ],
             [
              0.1111111111111111,
              "#46039f"
             ],
             [
              0.2222222222222222,
              "#7201a8"
             ],
             [
              0.3333333333333333,
              "#9c179e"
             ],
             [
              0.4444444444444444,
              "#bd3786"
             ],
             [
              0.5555555555555556,
              "#d8576b"
             ],
             [
              0.6666666666666666,
              "#ed7953"
             ],
             [
              0.7777777777777778,
              "#fb9f3a"
             ],
             [
              0.8888888888888888,
              "#fdca26"
             ],
             [
              1,
              "#f0f921"
             ]
            ],
            "type": "contour"
           }
          ],
          "contourcarpet": [
           {
            "colorbar": {
             "outlinewidth": 0,
             "ticks": ""
            },
            "type": "contourcarpet"
           }
          ],
          "heatmap": [
           {
            "colorbar": {
             "outlinewidth": 0,
             "ticks": ""
            },
            "colorscale": [
             [
              0,
              "#0d0887"
             ],
             [
              0.1111111111111111,
              "#46039f"
             ],
             [
              0.2222222222222222,
              "#7201a8"
             ],
             [
              0.3333333333333333,
              "#9c179e"
             ],
             [
              0.4444444444444444,
              "#bd3786"
             ],
             [
              0.5555555555555556,
              "#d8576b"
             ],
             [
              0.6666666666666666,
              "#ed7953"
             ],
             [
              0.7777777777777778,
              "#fb9f3a"
             ],
             [
              0.8888888888888888,
              "#fdca26"
             ],
             [
              1,
              "#f0f921"
             ]
            ],
            "type": "heatmap"
           }
          ],
          "histogram": [
           {
            "marker": {
             "pattern": {
              "fillmode": "overlay",
              "size": 10,
              "solidity": 0.2
             }
            },
            "type": "histogram"
           }
          ],
          "histogram2d": [
           {
            "colorbar": {
             "outlinewidth": 0,
             "ticks": ""
            },
            "colorscale": [
             [
              0,
              "#0d0887"
             ],
             [
              0.1111111111111111,
              "#46039f"
             ],
             [
              0.2222222222222222,
              "#7201a8"
             ],
             [
              0.3333333333333333,
              "#9c179e"
             ],
             [
              0.4444444444444444,
              "#bd3786"
             ],
             [
              0.5555555555555556,
              "#d8576b"
             ],
             [
              0.6666666666666666,
              "#ed7953"
             ],
             [
              0.7777777777777778,
              "#fb9f3a"
             ],
             [
              0.8888888888888888,
              "#fdca26"
             ],
             [
              1,
              "#f0f921"
             ]
            ],
            "type": "histogram2d"
           }
          ],
          "histogram2dcontour": [
           {
            "colorbar": {
             "outlinewidth": 0,
             "ticks": ""
            },
            "colorscale": [
             [
              0,
              "#0d0887"
             ],
             [
              0.1111111111111111,
              "#46039f"
             ],
             [
              0.2222222222222222,
              "#7201a8"
             ],
             [
              0.3333333333333333,
              "#9c179e"
             ],
             [
              0.4444444444444444,
              "#bd3786"
             ],
             [
              0.5555555555555556,
              "#d8576b"
             ],
             [
              0.6666666666666666,
              "#ed7953"
             ],
             [
              0.7777777777777778,
              "#fb9f3a"
             ],
             [
              0.8888888888888888,
              "#fdca26"
             ],
             [
              1,
              "#f0f921"
             ]
            ],
            "type": "histogram2dcontour"
           }
          ],
          "mesh3d": [
           {
            "colorbar": {
             "outlinewidth": 0,
             "ticks": ""
            },
            "type": "mesh3d"
           }
          ],
          "parcoords": [
           {
            "line": {
             "colorbar": {
              "outlinewidth": 0,
              "ticks": ""
             }
            },
            "type": "parcoords"
           }
          ],
          "pie": [
           {
            "automargin": true,
            "type": "pie"
           }
          ],
          "scatter": [
           {
            "fillpattern": {
             "fillmode": "overlay",
             "size": 10,
             "solidity": 0.2
            },
            "type": "scatter"
           }
          ],
          "scatter3d": [
           {
            "line": {
             "colorbar": {
              "outlinewidth": 0,
              "ticks": ""
             }
            },
            "marker": {
             "colorbar": {
              "outlinewidth": 0,
              "ticks": ""
             }
            },
            "type": "scatter3d"
           }
          ],
          "scattercarpet": [
           {
            "marker": {
             "colorbar": {
              "outlinewidth": 0,
              "ticks": ""
             }
            },
            "type": "scattercarpet"
           }
          ],
          "scattergeo": [
           {
            "marker": {
             "colorbar": {
              "outlinewidth": 0,
              "ticks": ""
             }
            },
            "type": "scattergeo"
           }
          ],
          "scattergl": [
           {
            "marker": {
             "colorbar": {
              "outlinewidth": 0,
              "ticks": ""
             }
            },
            "type": "scattergl"
           }
          ],
          "scattermap": [
           {
            "marker": {
             "colorbar": {
              "outlinewidth": 0,
              "ticks": ""
             }
            },
            "type": "scattermap"
           }
          ],
          "scattermapbox": [
           {
            "marker": {
             "colorbar": {
              "outlinewidth": 0,
              "ticks": ""
             }
            },
            "type": "scattermapbox"
           }
          ],
          "scatterpolar": [
           {
            "marker": {
             "colorbar": {
              "outlinewidth": 0,
              "ticks": ""
             }
            },
            "type": "scatterpolar"
           }
          ],
          "scatterpolargl": [
           {
            "marker": {
             "colorbar": {
              "outlinewidth": 0,
              "ticks": ""
             }
            },
            "type": "scatterpolargl"
           }
          ],
          "scatterternary": [
           {
            "marker": {
             "colorbar": {
              "outlinewidth": 0,
              "ticks": ""
             }
            },
            "type": "scatterternary"
           }
          ],
          "surface": [
           {
            "colorbar": {
             "outlinewidth": 0,
             "ticks": ""
            },
            "colorscale": [
             [
              0,
              "#0d0887"
             ],
             [
              0.1111111111111111,
              "#46039f"
             ],
             [
              0.2222222222222222,
              "#7201a8"
             ],
             [
              0.3333333333333333,
              "#9c179e"
             ],
             [
              0.4444444444444444,
              "#bd3786"
             ],
             [
              0.5555555555555556,
              "#d8576b"
             ],
             [
              0.6666666666666666,
              "#ed7953"
             ],
             [
              0.7777777777777778,
              "#fb9f3a"
             ],
             [
              0.8888888888888888,
              "#fdca26"
             ],
             [
              1,
              "#f0f921"
             ]
            ],
            "type": "surface"
           }
          ],
          "table": [
           {
            "cells": {
             "fill": {
              "color": "#EBF0F8"
             },
             "line": {
              "color": "white"
             }
            },
            "header": {
             "fill": {
              "color": "#C8D4E3"
             },
             "line": {
              "color": "white"
             }
            },
            "type": "table"
           }
          ]
         },
         "layout": {
          "annotationdefaults": {
           "arrowcolor": "#2a3f5f",
           "arrowhead": 0,
           "arrowwidth": 1
          },
          "autotypenumbers": "strict",
          "coloraxis": {
           "colorbar": {
            "outlinewidth": 0,
            "ticks": ""
           }
          },
          "colorscale": {
           "diverging": [
            [
             0,
             "#8e0152"
            ],
            [
             0.1,
             "#c51b7d"
            ],
            [
             0.2,
             "#de77ae"
            ],
            [
             0.3,
             "#f1b6da"
            ],
            [
             0.4,
             "#fde0ef"
            ],
            [
             0.5,
             "#f7f7f7"
            ],
            [
             0.6,
             "#e6f5d0"
            ],
            [
             0.7,
             "#b8e186"
            ],
            [
             0.8,
             "#7fbc41"
            ],
            [
             0.9,
             "#4d9221"
            ],
            [
             1,
             "#276419"
            ]
           ],
           "sequential": [
            [
             0,
             "#0d0887"
            ],
            [
             0.1111111111111111,
             "#46039f"
            ],
            [
             0.2222222222222222,
             "#7201a8"
            ],
            [
             0.3333333333333333,
             "#9c179e"
            ],
            [
             0.4444444444444444,
             "#bd3786"
            ],
            [
             0.5555555555555556,
             "#d8576b"
            ],
            [
             0.6666666666666666,
             "#ed7953"
            ],
            [
             0.7777777777777778,
             "#fb9f3a"
            ],
            [
             0.8888888888888888,
             "#fdca26"
            ],
            [
             1,
             "#f0f921"
            ]
           ],
           "sequentialminus": [
            [
             0,
             "#0d0887"
            ],
            [
             0.1111111111111111,
             "#46039f"
            ],
            [
             0.2222222222222222,
             "#7201a8"
            ],
            [
             0.3333333333333333,
             "#9c179e"
            ],
            [
             0.4444444444444444,
             "#bd3786"
            ],
            [
             0.5555555555555556,
             "#d8576b"
            ],
            [
             0.6666666666666666,
             "#ed7953"
            ],
            [
             0.7777777777777778,
             "#fb9f3a"
            ],
            [
             0.8888888888888888,
             "#fdca26"
            ],
            [
             1,
             "#f0f921"
            ]
           ]
          },
          "colorway": [
           "#636efa",
           "#EF553B",
           "#00cc96",
           "#ab63fa",
           "#FFA15A",
           "#19d3f3",
           "#FF6692",
           "#B6E880",
           "#FF97FF",
           "#FECB52"
          ],
          "font": {
           "color": "#2a3f5f"
          },
          "geo": {
           "bgcolor": "white",
           "lakecolor": "white",
           "landcolor": "white",
           "showlakes": true,
           "showland": true,
           "subunitcolor": "#C8D4E3"
          },
          "hoverlabel": {
           "align": "left"
          },
          "hovermode": "closest",
          "mapbox": {
           "style": "light"
          },
          "paper_bgcolor": "white",
          "plot_bgcolor": "white",
          "polar": {
           "angularaxis": {
            "gridcolor": "#EBF0F8",
            "linecolor": "#EBF0F8",
            "ticks": ""
           },
           "bgcolor": "white",
           "radialaxis": {
            "gridcolor": "#EBF0F8",
            "linecolor": "#EBF0F8",
            "ticks": ""
           }
          },
          "scene": {
           "xaxis": {
            "backgroundcolor": "white",
            "gridcolor": "#DFE8F3",
            "gridwidth": 2,
            "linecolor": "#EBF0F8",
            "showbackground": true,
            "ticks": "",
            "zerolinecolor": "#EBF0F8"
           },
           "yaxis": {
            "backgroundcolor": "white",
            "gridcolor": "#DFE8F3",
            "gridwidth": 2,
            "linecolor": "#EBF0F8",
            "showbackground": true,
            "ticks": "",
            "zerolinecolor": "#EBF0F8"
           },
           "zaxis": {
            "backgroundcolor": "white",
            "gridcolor": "#DFE8F3",
            "gridwidth": 2,
            "linecolor": "#EBF0F8",
            "showbackground": true,
            "ticks": "",
            "zerolinecolor": "#EBF0F8"
           }
          },
          "shapedefaults": {
           "line": {
            "color": "#2a3f5f"
           }
          },
          "ternary": {
           "aaxis": {
            "gridcolor": "#DFE8F3",
            "linecolor": "#A2B1C6",
            "ticks": ""
           },
           "baxis": {
            "gridcolor": "#DFE8F3",
            "linecolor": "#A2B1C6",
            "ticks": ""
           },
           "bgcolor": "white",
           "caxis": {
            "gridcolor": "#DFE8F3",
            "linecolor": "#A2B1C6",
            "ticks": ""
           }
          },
          "title": {
           "x": 0.05
          },
          "xaxis": {
           "automargin": true,
           "gridcolor": "#EBF0F8",
           "linecolor": "#EBF0F8",
           "ticks": "",
           "title": {
            "standoff": 15
           },
           "zerolinecolor": "#EBF0F8",
           "zerolinewidth": 2
          },
          "yaxis": {
           "automargin": true,
           "gridcolor": "#EBF0F8",
           "linecolor": "#EBF0F8",
           "ticks": "",
           "title": {
            "standoff": 15
           },
           "zerolinecolor": "#EBF0F8",
           "zerolinewidth": 2
          }
         }
        },
        "title": {
         "text": " Payment Method Share"
        }
       }
      },
      "image/png": "[encoded data removed]"
     },
     "metadata": {},
     "output_type": "display_data"
    }
   ],
   "source": [
    "#  4: Payment Type Share\n",
    "payment_share = df.groupby(\"cash_type\")[\"money\"].sum().reset_index()\n",
    "\n",
    "fig4 = px.pie(\n",
    "    payment_share,\n",
    "    names=\"cash_type\", values=\"money\",\n",
    "    title=\" Payment Method Share\",\n",
    "    color=\"cash_type\",\n",
    "    color_discrete_map={\"card\": \"#6F4E37\", \"cash\": \"#D2B48C\"}  # coffee shades\n",
    ")\n",
    "\n",
    "fig4.update_layout(\n",
    "    template=\"plotly_white\",\n",
    "    paper_bgcolor=\"#FFF4E6\",\n",
    "    font=dict(color=\"#3C2F2F\", size=14)\n",
    ")\n",
    "fig4.show()"
   ]
  },
  {
   "cell_type": "code",
   "execution_count": 11,
   "id": "f259a71f-9ebf-4709-bcf9-6f1cffa2b300",
   "metadata": {},
   "outputs": [
    {
     "data": {
      "application/vnd.plotly.v1+json": {
       "config": {
        "plotlyServerURL": "https://plot.ly"
       },
       "data": [
        {
         "hovertemplate": "date=%{x}<br>money=%{y}<extra></extra>",
         "legendgroup": "",
         "line": {
          "color": "#7B3F00",
          "dash": "solid",
          "width": 3
         },
         "marker": {
          "color": "#A9746E",
          "size": 8,
          "symbol": "circle"
         },
         "mode": "lines+markers",
         "name": "",
         "orientation": "v",
         "showlegend": false,
         "type": "scatter",
         "x": [
          "2024-03-01T00:00:00.000000000",
          "2024-03-02T00:00:00.000000000",
          "2024-03-03T00:00:00.000000000",
          "2024-03-04T00:00:00.000000000",
          "2024-03-05T00:00:00.000000000",
          "2024-03-06T00:00:00.000000000",
          "2024-03-07T00:00:00.000000000",
          "2024-03-08T00:00:00.000000000",
          "2024-03-09T00:00:00.000000000",
          "2024-03-10T00:00:00.000000000",
          "2024-03-11T00:00:00.000000000",
          "2024-03-12T00:00:00.000000000",
          "2024-03-13T00:00:00.000000000",
          "2024-03-14T00:00:00.000000000",
          "2024-03-15T00:00:00.000000000",
          "2024-03-16T00:00:00.000000000",
          "2024-03-17T00:00:00.000000000",
          "2024-03-18T00:00:00.000000000",
          "2024-03-19T00:00:00.000000000",
          "2024-03-20T00:00:00.000000000",
          "2024-03-21T00:00:00.000000000",
          "2024-03-22T00:00:00.000000000",
          "2024-03-23T00:00:00.000000000",
          "2024-03-24T00:00:00.000000000",
          "2024-03-25T00:00:00.000000000",
          "2024-03-26T00:00:00.000000000",
          "2024-03-27T00:00:00.000000000",
          "2024-03-28T00:00:00.000000000",
          "2024-03-29T00:00:00.000000000",
          "2024-03-30T00:00:00.000000000",
          "2024-03-31T00:00:00.000000000",
          "2024-04-01T00:00:00.000000000",
          "2024-04-02T00:00:00.000000000",
          "2024-04-03T00:00:00.000000000",
          "2024-04-04T00:00:00.000000000",
          "2024-04-05T00:00:00.000000000",
          "2024-04-06T00:00:00.000000000",
          "2024-04-07T00:00:00.000000000",
          "2024-04-08T00:00:00.000000000",
          "2024-04-09T00:00:00.000000000",
          "2024-04-10T00:00:00.000000000",
          "2024-04-11T00:00:00.000000000",
          "2024-04-12T00:00:00.000000000",
          "2024-04-13T00:00:00.000000000",
          "2024-04-14T00:00:00.000000000",
          "2024-04-15T00:00:00.000000000",
          "2024-04-16T00:00:00.000000000",
          "2024-04-17T00:00:00.000000000",
          "2024-04-18T00:00:00.000000000",
          "2024-04-19T00:00:00.000000000",
          "2024-04-20T00:00:00.000000000",
          "2024-04-21T00:00:00.000000000",
          "2024-04-22T00:00:00.000000000",
          "2024-04-23T00:00:00.000000000",
          "2024-04-24T00:00:00.000000000",
          "2024-04-25T00:00:00.000000000",
          "2024-04-26T00:00:00.000000000",
          "2024-04-27T00:00:00.000000000",
          "2024-04-28T00:00:00.000000000",
          "2024-04-29T00:00:00.000000000",
          "2024-04-30T00:00:00.000000000",
          "2024-05-02T00:00:00.000000000",
          "2024-05-03T00:00:00.000000000",
          "2024-05-06T00:00:00.000000000",
          "2024-05-07T00:00:00.000000000",
          "2024-05-08T00:00:00.000000000",
          "2024-05-09T00:00:00.000000000",
          "2024-05-10T00:00:00.000000000",
          "2024-05-11T00:00:00.000000000",
          "2024-05-12T00:00:00.000000000",
          "2024-05-13T00:00:00.000000000",
          "2024-05-14T00:00:00.000000000",
          "2024-05-15T00:00:00.000000000",
          "2024-05-16T00:00:00.000000000",
          "2024-05-17T00:00:00.000000000",
          "2024-05-18T00:00:00.000000000",
          "2024-05-19T00:00:00.000000000",
          "2024-05-20T00:00:00.000000000",
          "2024-05-21T00:00:00.000000000",
          "2024-05-22T00:00:00.000000000",
          "2024-05-23T00:00:00.000000000",
          "2024-05-24T00:00:00.000000000",
          "2024-05-25T00:00:00.000000000",
          "2024-05-26T00:00:00.000000000",
          "2024-05-27T00:00:00.000000000",
          "2024-05-28T00:00:00.000000000",
          "2024-05-29T00:00:00.000000000",
          "2024-05-30T00:00:00.000000000",
          "2024-05-31T00:00:00.000000000",
          "2024-06-01T00:00:00.000000000",
          "2024-06-02T00:00:00.000000000",
          "2024-06-03T00:00:00.000000000",
          "2024-06-04T00:00:00.000000000",
          "2024-06-05T00:00:00.000000000",
          "2024-06-06T00:00:00.000000000",
          "2024-06-07T00:00:00.000000000",
          "2024-06-08T00:00:00.000000000",
          "2024-06-09T00:00:00.000000000",
          "2024-06-10T00:00:00.000000000",
          "2024-06-11T00:00:00.000000000",
          "2024-06-12T00:00:00.000000000",
          "2024-06-13T00:00:00.000000000",
          "2024-06-14T00:00:00.000000000",
          "2024-06-15T00:00:00.000000000",
          "2024-06-16T00:00:00.000000000",
          "2024-06-17T00:00:00.000000000",
          "2024-06-18T00:00:00.000000000",
          "2024-06-19T00:00:00.000000000",
          "2024-06-20T00:00:00.000000000",
          "2024-06-21T00:00:00.000000000",
          "2024-06-22T00:00:00.000000000",
          "2024-06-23T00:00:00.000000000",
          "2024-06-24T00:00:00.000000000",
          "2024-06-25T00:00:00.000000000",
          "2024-06-26T00:00:00.000000000",
          "2024-06-27T00:00:00.000000000",
          "2024-06-28T00:00:00.000000000",
          "2024-06-29T00:00:00.000000000",
          "2024-06-30T00:00:00.000000000",
          "2024-07-01T00:00:00.000000000",
          "2024-07-02T00:00:00.000000000",
          "2024-07-03T00:00:00.000000000",
          "2024-07-04T00:00:00.000000000",
          "2024-07-05T00:00:00.000000000",
          "2024-07-06T00:00:00.000000000",
          "2024-07-07T00:00:00.000000000",
          "2024-07-08T00:00:00.000000000",
          "2024-07-09T00:00:00.000000000",
          "2024-07-10T00:00:00.000000000",
          "2024-07-11T00:00:00.000000000",
          "2024-07-12T00:00:00.000000000",
          "2024-07-13T00:00:00.000000000",
          "2024-07-14T00:00:00.000000000",
          "2024-07-15T00:00:00.000000000",
          "2024-07-16T00:00:00.000000000",
          "2024-07-17T00:00:00.000000000",
          "2024-07-18T00:00:00.000000000",
          "2024-07-19T00:00:00.000000000",
          "2024-07-20T00:00:00.000000000",
          "2024-07-21T00:00:00.000000000",
          "2024-07-22T00:00:00.000000000",
          "2024-07-23T00:00:00.000000000",
          "2024-07-24T00:00:00.000000000",
          "2024-07-25T00:00:00.000000000",
          "2024-07-26T00:00:00.000000000",
          "2024-07-27T00:00:00.000000000",
          "2024-07-28T00:00:00.000000000",
          "2024-07-29T00:00:00.000000000",
          "2024-07-30T00:00:00.000000000",
          "2024-07-31T00:00:00.000000000"
         ],
         "xaxis": "x",
         "y": {
          "bdata": "zczMzMzEeEAzMzMzM4NsQJqZmZmZ0XVAZmZmZmbmYEAAAAAAACh1QGZmZmZmRmVAMzMzMzODa0AAAAAAAJhwQGZmZmZm9n1AMzMzMzPzbEAzMzMzMzNxQDMzMzMzg2xAMzMzMzMDcECamZmZmdF4QGZmZmZm5lpAZmZmZmbmZkCamZmZmTlRQGZmZmZm5lxAzczMzMx8a0DNzMzMzLxqQGZmZmZmpmlAzMzMzMysZ0CamZmZmdFxQM3MzMzMrFNANDMzMzPza0AzMzMzM4t3QDMzMzMz+3BAmpmZmZlZX0A0MzMzM4NjQM3MzMzMvGdAzczMzMwsUUCZmZmZmVluQAAAAAAAEGFAAAAAAACgX0AAAAAAACBnQJqZmZmZoXZAMzMzMzODYUAAAAAAADBuQDMzMzMzQ3VANDMzMzNDZ0DNzMzMzMxkQAAAAAAAIGVAZmZmZmbmUEBnZmZmZuZyQM3MzMzMJHtAzMzMzMzMYkAAAAAAAEhxQGZmZmZm5mhAMzMzMzMLdkCamZmZmVFwQM3MzMzM5H5AKVyPwvUoWkAfhetRuA5mQM3MzMzMvGVA9ihcj8IFcUAfhetRuF5eQBSuR+F6xHJAXI/C9SjcQkAAAAAAACBlQMP1KFyPGnBA9ihcj8IFcUDXo3A9CrduQFyPwvUonFxA4XoUrkepc0DhehSuR4F1QFyPwvUo3EJArkfhehR2ckCuR+F6FI5iQKRwPQrXU3JA9ihcj8IFcUAUrkfherRWQArXo3A9OnlAhetRuB7tdUA9CtejcHV0QPYoXI/CJXNA16NwPQq3cUA+CtejcB16QFyPwvUoeIFAZmZmZmauc0CF61G4Hi13QDMzMzMz+4FAFa5H4XpEakA+CtejcN1vQM3MzMzMdIBAH4XrUbjedkCamZmZmUF3QJqZmZmZyXhAhetRuB4td0CPwvUoXD9/QM3MzMzMLHhAmpmZmZmZakBmZmZmZnZvQHsUrkfhon1A4XoUrkdhc0C4HoXrURh4QM3MzMzMrGJA9ihcj8IFYUCPwvUoXEd7QArXo3A9SmxApHA9CtdzakA9CtejcK1rQArXo3A9sndAuB6F61GYX0ApXI/C9WhwQHE9CtejiHlAzczMzMw0dEAUrkfhelRtQFK4HoXryXdAPQrXo3Cta0AK16NwPTp5QAAAAAAAIGVAmpmZmZlZZkA9CtejcK1rQML1KFyPomFAPQrXo3CdaEApXI/C9WhgQGZmZmZm5mNAKVyPwvXwcUApXI/C9WhgQD0K16NwnVhAcT0K16MAaEDhehSuR2FzQB+F61G4Xk5AMzMzMzP7ckAzMzMzM4NkQIXrUbgepXVAMzMzMzNzYUAAAAAAABBiQHE9Ctej8FRAhetRuB4lXUCamZmZmUljQClcj8L1aFBAPgrXo3CNZUApXI/C9WhAQB+F61G4Xk5A7FG4HoXrO0C4HoXrUYBzQB+F61G4Xm5AehSuR+EKaUAfhetRuF5eQFK4HoXrsVpA16NwPQo/dUAK16NwPaJ0QGZmZmZm1nBAH4XrUbjWfEBcj8L1KEx3QNejcD0Kt1NAhetRuB4ddECkcD0K11OEQB+F61G4zoNA",
          "dtype": "f8"
         },
         "yaxis": "y"
        }
       ],
       "layout": {
        "font": {
         "color": "#3C2F2F",
         "size": 14
        },
        "legend": {
         "tracegroupgap": 0
        },
        "paper_bgcolor": "#FFF4E6",
        "template": {
         "data": {
          "bar": [
           {
            "error_x": {
             "color": "#2a3f5f"
            },
            "error_y": {
             "color": "#2a3f5f"
            },
            "marker": {
             "line": {
              "color": "white",
              "width": 0.5
             },
             "pattern": {
              "fillmode": "overlay",
              "size": 10,
              "solidity": 0.2
             }
            },
            "type": "bar"
           }
          ],
          "barpolar": [
           {
            "marker": {
             "line": {
              "color": "white",
              "width": 0.5
             },
             "pattern": {
              "fillmode": "overlay",
              "size": 10,
              "solidity": 0.2
             }
            },
            "type": "barpolar"
           }
          ],
          "carpet": [
           {
            "aaxis": {
             "endlinecolor": "#2a3f5f",
             "gridcolor": "#C8D4E3",
             "linecolor": "#C8D4E3",
             "minorgridcolor": "#C8D4E3",
             "startlinecolor": "#2a3f5f"
            },
            "baxis": {
             "endlinecolor": "#2a3f5f",
             "gridcolor": "#C8D4E3",
             "linecolor": "#C8D4E3",
             "minorgridcolor": "#C8D4E3",
             "startlinecolor": "#2a3f5f"
            },
            "type": "carpet"
           }
          ],
          "choropleth": [
           {
            "colorbar": {
             "outlinewidth": 0,
             "ticks": ""
            },
            "type": "choropleth"
           }
          ],
          "contour": [
           {
            "colorbar": {
             "outlinewidth": 0,
             "ticks": ""
            },
            "colorscale": [
             [
              0,
              "#0d0887"
             ],
             [
              0.1111111111111111,
              "#46039f"
             ],
             [
              0.2222222222222222,
              "#7201a8"
             ],
             [
              0.3333333333333333,
              "#9c179e"
             ],
             [
              0.4444444444444444,
              "#bd3786"
             ],
             [
              0.5555555555555556,
              "#d8576b"
             ],
             [
              0.6666666666666666,
              "#ed7953"
             ],
             [
              0.7777777777777778,
              "#fb9f3a"
             ],
             [
              0.8888888888888888,
              "#fdca26"
             ],
             [
              1,
              "#f0f921"
             ]
            ],
            "type": "contour"
           }
          ],
          "contourcarpet": [
           {
            "colorbar": {
             "outlinewidth": 0,
             "ticks": ""
            },
            "type": "contourcarpet"
           }
          ],
          "heatmap": [
           {
            "colorbar": {
             "outlinewidth": 0,
             "ticks": ""
            },
            "colorscale": [
             [
              0,
              "#0d0887"
             ],
             [
              0.1111111111111111,
              "#46039f"
             ],
             [
              0.2222222222222222,
              "#7201a8"
             ],
             [
              0.3333333333333333,
              "#9c179e"
             ],
             [
              0.4444444444444444,
              "#bd3786"
             ],
             [
              0.5555555555555556,
              "#d8576b"
             ],
             [
              0.6666666666666666,
              "#ed7953"
             ],
             [
              0.7777777777777778,
              "#fb9f3a"
             ],
             [
              0.8888888888888888,
              "#fdca26"
             ],
             [
              1,
              "#f0f921"
             ]
            ],
            "type": "heatmap"
           }
          ],
          "histogram": [
           {
            "marker": {
             "pattern": {
              "fillmode": "overlay",
              "size": 10,
              "solidity": 0.2
             }
            },
            "type": "histogram"
           }
          ],
          "histogram2d": [
           {
            "colorbar": {
             "outlinewidth": 0,
             "ticks": ""
            },
            "colorscale": [
             [
              0,
              "#0d0887"
             ],
             [
              0.1111111111111111,
              "#46039f"
             ],
             [
              0.2222222222222222,
              "#7201a8"
             ],
             [
              0.3333333333333333,
              "#9c179e"
             ],
             [
              0.4444444444444444,
              "#bd3786"
             ],
             [
              0.5555555555555556,
              "#d8576b"
             ],
             [
              0.6666666666666666,
              "#ed7953"
             ],
             [
              0.7777777777777778,
              "#fb9f3a"
             ],
             [
              0.8888888888888888,
              "#fdca26"
             ],
             [
              1,
              "#f0f921"
             ]
            ],
            "type": "histogram2d"
           }
          ],
          "histogram2dcontour": [
           {
            "colorbar": {
             "outlinewidth": 0,
             "ticks": ""
            },
            "colorscale": [
             [
              0,
              "#0d0887"
             ],
             [
              0.1111111111111111,
              "#46039f"
             ],
             [
              0.2222222222222222,
              "#7201a8"
             ],
             [
              0.3333333333333333,
              "#9c179e"
             ],
             [
              0.4444444444444444,
              "#bd3786"
             ],
             [
              0.5555555555555556,
              "#d8576b"
             ],
             [
              0.6666666666666666,
              "#ed7953"
             ],
             [
              0.7777777777777778,
              "#fb9f3a"
             ],
             [
              0.8888888888888888,
              "#fdca26"
             ],
             [
              1,
              "#f0f921"
             ]
            ],
            "type": "histogram2dcontour"
           }
          ],
          "mesh3d": [
           {
            "colorbar": {
             "outlinewidth": 0,
             "ticks": ""
            },
            "type": "mesh3d"
           }
          ],
          "parcoords": [
           {
            "line": {
             "colorbar": {
              "outlinewidth": 0,
              "ticks": ""
             }
            },
            "type": "parcoords"
           }
          ],
          "pie": [
           {
            "automargin": true,
            "type": "pie"
           }
          ],
          "scatter": [
           {
            "fillpattern": {
             "fillmode": "overlay",
             "size": 10,
             "solidity": 0.2
            },
            "type": "scatter"
           }
          ],
          "scatter3d": [
           {
            "line": {
             "colorbar": {
              "outlinewidth": 0,
              "ticks": ""
             }
            },
            "marker": {
             "colorbar": {
              "outlinewidth": 0,
              "ticks": ""
             }
            },
            "type": "scatter3d"
           }
          ],
          "scattercarpet": [
           {
            "marker": {
             "colorbar": {
              "outlinewidth": 0,
              "ticks": ""
             }
            },
            "type": "scattercarpet"
           }
          ],
          "scattergeo": [
           {
            "marker": {
             "colorbar": {
              "outlinewidth": 0,
              "ticks": ""
             }
            },
            "type": "scattergeo"
           }
          ],
          "scattergl": [
           {
            "marker": {
             "colorbar": {
              "outlinewidth": 0,
              "ticks": ""
             }
            },
            "type": "scattergl"
           }
          ],
          "scattermap": [
           {
            "marker": {
             "colorbar": {
              "outlinewidth": 0,
              "ticks": ""
             }
            },
            "type": "scattermap"
           }
          ],
          "scattermapbox": [
           {
            "marker": {
             "colorbar": {
              "outlinewidth": 0,
              "ticks": ""
             }
            },
            "type": "scattermapbox"
           }
          ],
          "scatterpolar": [
           {
            "marker": {
             "colorbar": {
              "outlinewidth": 0,
              "ticks": ""
             }
            },
            "type": "scatterpolar"
           }
          ],
          "scatterpolargl": [
           {
            "marker": {
             "colorbar": {
              "outlinewidth": 0,
              "ticks": ""
             }
            },
            "type": "scatterpolargl"
           }
          ],
          "scatterternary": [
           {
            "marker": {
             "colorbar": {
              "outlinewidth": 0,
              "ticks": ""
             }
            },
            "type": "scatterternary"
           }
          ],
          "surface": [
           {
            "colorbar": {
             "outlinewidth": 0,
             "ticks": ""
            },
            "colorscale": [
             [
              0,
              "#0d0887"
             ],
             [
              0.1111111111111111,
              "#46039f"
             ],
             [
              0.2222222222222222,
              "#7201a8"
             ],
             [
              0.3333333333333333,
              "#9c179e"
             ],
             [
              0.4444444444444444,
              "#bd3786"
             ],
             [
              0.5555555555555556,
              "#d8576b"
             ],
             [
              0.6666666666666666,
              "#ed7953"
             ],
             [
              0.7777777777777778,
              "#fb9f3a"
             ],
             [
              0.8888888888888888,
              "#fdca26"
             ],
             [
              1,
              "#f0f921"
             ]
            ],
            "type": "surface"
           }
          ],
          "table": [
           {
            "cells": {
             "fill": {
              "color": "#EBF0F8"
             },
             "line": {
              "color": "white"
             }
            },
            "header": {
             "fill": {
              "color": "#C8D4E3"
             },
             "line": {
              "color": "white"
             }
            },
            "type": "table"
           }
          ]
         },
         "layout": {
          "annotationdefaults": {
           "arrowcolor": "#2a3f5f",
           "arrowhead": 0,
           "arrowwidth": 1
          },
          "autotypenumbers": "strict",
          "coloraxis": {
           "colorbar": {
            "outlinewidth": 0,
            "ticks": ""
           }
          },
          "colorscale": {
           "diverging": [
            [
             0,
             "#8e0152"
            ],
            [
             0.1,
             "#c51b7d"
            ],
            [
             0.2,
             "#de77ae"
            ],
            [
             0.3,
             "#f1b6da"
            ],
            [
             0.4,
             "#fde0ef"
            ],
            [
             0.5,
             "#f7f7f7"
            ],
            [
             0.6,
             "#e6f5d0"
            ],
            [
             0.7,
             "#b8e186"
            ],
            [
             0.8,
             "#7fbc41"
            ],
            [
             0.9,
             "#4d9221"
            ],
            [
             1,
             "#276419"
            ]
           ],
           "sequential": [
            [
             0,
             "#0d0887"
            ],
            [
             0.1111111111111111,
             "#46039f"
            ],
            [
             0.2222222222222222,
             "#7201a8"
            ],
            [
             0.3333333333333333,
             "#9c179e"
            ],
            [
             0.4444444444444444,
             "#bd3786"
            ],
            [
             0.5555555555555556,
             "#d8576b"
            ],
            [
             0.6666666666666666,
             "#ed7953"
            ],
            [
             0.7777777777777778,
             "#fb9f3a"
            ],
            [
             0.8888888888888888,
             "#fdca26"
            ],
            [
             1,
             "#f0f921"
            ]
           ],
           "sequentialminus": [
            [
             0,
             "#0d0887"
            ],
            [
             0.1111111111111111,
             "#46039f"
            ],
            [
             0.2222222222222222,
             "#7201a8"
            ],
            [
             0.3333333333333333,
             "#9c179e"
            ],
            [
             0.4444444444444444,
             "#bd3786"
            ],
            [
             0.5555555555555556,
             "#d8576b"
            ],
            [
             0.6666666666666666,
             "#ed7953"
            ],
            [
             0.7777777777777778,
             "#fb9f3a"
            ],
            [
             0.8888888888888888,
             "#fdca26"
            ],
            [
             1,
             "#f0f921"
            ]
           ]
          },
          "colorway": [
           "#636efa",
           "#EF553B",
           "#00cc96",
           "#ab63fa",
           "#FFA15A",
           "#19d3f3",
           "#FF6692",
           "#B6E880",
           "#FF97FF",
           "#FECB52"
          ],
          "font": {
           "color": "#2a3f5f"
          },
          "geo": {
           "bgcolor": "white",
           "lakecolor": "white",
           "landcolor": "white",
           "showlakes": true,
           "showland": true,
           "subunitcolor": "#C8D4E3"
          },
          "hoverlabel": {
           "align": "left"
          },
          "hovermode": "closest",
          "mapbox": {
           "style": "light"
          },
          "paper_bgcolor": "white",
          "plot_bgcolor": "white",
          "polar": {
           "angularaxis": {
            "gridcolor": "#EBF0F8",
            "linecolor": "#EBF0F8",
            "ticks": ""
           },
           "bgcolor": "white",
           "radialaxis": {
            "gridcolor": "#EBF0F8",
            "linecolor": "#EBF0F8",
            "ticks": ""
           }
          },
          "scene": {
           "xaxis": {
            "backgroundcolor": "white",
            "gridcolor": "#DFE8F3",
            "gridwidth": 2,
            "linecolor": "#EBF0F8",
            "showbackground": true,
            "ticks": "",
            "zerolinecolor": "#EBF0F8"
           },
           "yaxis": {
            "backgroundcolor": "white",
            "gridcolor": "#DFE8F3",
            "gridwidth": 2,
            "linecolor": "#EBF0F8",
            "showbackground": true,
            "ticks": "",
            "zerolinecolor": "#EBF0F8"
           },
           "zaxis": {
            "backgroundcolor": "white",
            "gridcolor": "#DFE8F3",
            "gridwidth": 2,
            "linecolor": "#EBF0F8",
            "showbackground": true,
            "ticks": "",
            "zerolinecolor": "#EBF0F8"
           }
          },
          "shapedefaults": {
           "line": {
            "color": "#2a3f5f"
           }
          },
          "ternary": {
           "aaxis": {
            "gridcolor": "#DFE8F3",
            "linecolor": "#A2B1C6",
            "ticks": ""
           },
           "baxis": {
            "gridcolor": "#DFE8F3",
            "linecolor": "#A2B1C6",
            "ticks": ""
           },
           "bgcolor": "white",
           "caxis": {
            "gridcolor": "#DFE8F3",
            "linecolor": "#A2B1C6",
            "ticks": ""
           }
          },
          "title": {
           "x": 0.05
          },
          "xaxis": {
           "automargin": true,
           "gridcolor": "#EBF0F8",
           "linecolor": "#EBF0F8",
           "ticks": "",
           "title": {
            "standoff": 15
           },
           "zerolinecolor": "#EBF0F8",
           "zerolinewidth": 2
          },
          "yaxis": {
           "automargin": true,
           "gridcolor": "#EBF0F8",
           "linecolor": "#EBF0F8",
           "ticks": "",
           "title": {
            "standoff": 15
           },
           "zerolinecolor": "#EBF0F8",
           "zerolinewidth": 2
          }
         }
        },
        "title": {
         "text": " Daily Coffee Sales Trend"
        },
        "xaxis": {
         "anchor": "y",
         "domain": [
          0,
          1
         ],
         "title": {
          "text": "date"
         }
        },
        "yaxis": {
         "anchor": "x",
         "domain": [
          0,
          1
         ],
         "title": {
          "text": "money"
         }
        }
       }
      },
      "image/png": "[encoded data removed]"
     },
     "metadata": {},
     "output_type": "display_data"
    }
   ],
   "source": [
    "#  Plot 5: Daily Sales Trend\n",
    "daily_sales = df.groupby(\"date\")[\"money\"].sum().reset_index()\n",
    "\n",
    "fig5 = px.line(\n",
    "    daily_sales,\n",
    "    x=\"date\", y=\"money\",\n",
    "    title=\" Daily Coffee Sales Trend\",\n",
    "    markers=True\n",
    ")\n",
    "fig5.update_traces(line=dict(color=\"#7B3F00\", width=3), marker=dict(color=\"#A9746E\", size=8))\n",
    "fig5.update_layout(\n",
    "    template=\"plotly_white\",\n",
    "    paper_bgcolor=\"#FFF4E6\",\n",
    "    font=dict(color=\"#3C2F2F\", size=14)\n",
    ")\n",
    "fig5.show()"
   ]
  },
  {
   "cell_type": "code",
   "execution_count": 12,
   "id": "304ca512-0dd0-40cc-b9f1-8edc7c2075df",
   "metadata": {},
   "outputs": [
    {
     "data": {
      "application/vnd.plotly.v1+json": {
       "config": {
        "plotlyServerURL": "https://plot.ly"
       },
       "data": [
        {
         "hovertemplate": "money=%{marker.color}<br>card=%{y}<extra></extra>",
         "legendgroup": "",
         "marker": {
          "color": {
           "bdata": "j8L1KFxCpEBmZmZmZkmhQPYoXI/CkYtAexSuR+EShkBI4XoUrl+EQIXrUbgeMYRAC9ejcD2qfUA9CtejcK17QFyPwvUoZHpAUrgehetReUA=",
           "dtype": "f8"
          },
          "coloraxis": "coloraxis",
          "pattern": {
           "shape": ""
          }
         },
         "name": "",
         "orientation": "h",
         "showlegend": false,
         "textposition": "auto",
         "type": "bar",
         "x": {
          "bdata": "j8L1KFxCpEBmZmZmZkmhQPYoXI/CkYtAexSuR+EShkBI4XoUrl+EQIXrUbgeMYRAC9ejcD2qfUA9CtejcK17QFyPwvUoZHpAUrgehetReUA=",
          "dtype": "f8"
         },
         "xaxis": "x",
         "y": [
          "ANON-0000-0000-0012",
          "ANON-0000-0000-0009",
          "ANON-0000-0000-0097",
          "ANON-0000-0000-0040",
          "ANON-0000-0000-0003",
          "ANON-0000-0000-0001",
          "ANON-0000-0000-0141",
          "ANON-0000-0000-0180",
          "ANON-0000-0000-0024",
          "ANON-0000-0000-0134"
         ],
         "yaxis": "y"
        }
       ],
       "layout": {
        "barmode": "relative",
        "coloraxis": {
         "colorbar": {
          "title": {
           "text": "money"
          }
         },
         "colorscale": [
          [
           0,
           "#3C2F2F"
          ],
          [
           0.14285714285714285,
           "#6F4E37"
          ],
          [
           0.2857142857142857,
           "#7B3F00"
          ],
          [
           0.42857142857142855,
           "#8B5A2B"
          ],
          [
           0.5714285714285714,
           "#A9746E"
          ],
          [
           0.7142857142857143,
           "#BE9B7B"
          ],
          [
           0.8571428571428571,
           "#D2B48C"
          ],
          [
           1,
           "#E6D3B3"
          ]
         ]
        },
        "font": {
         "color": "#3C2F2F",
         "size": 14
        },
        "legend": {
         "tracegroupgap": 0
        },
        "paper_bgcolor": "#FFF4E6",
        "template": {
         "data": {
          "bar": [
           {
            "error_x": {
             "color": "#2a3f5f"
            },
            "error_y": {
             "color": "#2a3f5f"
            },
            "marker": {
             "line": {
              "color": "white",
              "width": 0.5
             },
             "pattern": {
              "fillmode": "overlay",
              "size": 10,
              "solidity": 0.2
             }
            },
            "type": "bar"
           }
          ],
          "barpolar": [
           {
            "marker": {
             "line": {
              "color": "white",
              "width": 0.5
             },
             "pattern": {
              "fillmode": "overlay",
              "size": 10,
              "solidity": 0.2
             }
            },
            "type": "barpolar"
           }
          ],
          "carpet": [
           {
            "aaxis": {
             "endlinecolor": "#2a3f5f",
             "gridcolor": "#C8D4E3",
             "linecolor": "#C8D4E3",
             "minorgridcolor": "#C8D4E3",
             "startlinecolor": "#2a3f5f"
            },
            "baxis": {
             "endlinecolor": "#2a3f5f",
             "gridcolor": "#C8D4E3",
             "linecolor": "#C8D4E3",
             "minorgridcolor": "#C8D4E3",
             "startlinecolor": "#2a3f5f"
            },
            "type": "carpet"
           }
          ],
          "choropleth": [
           {
            "colorbar": {
             "outlinewidth": 0,
             "ticks": ""
            },
            "type": "choropleth"
           }
          ],
          "contour": [
           {
            "colorbar": {
             "outlinewidth": 0,
             "ticks": ""
            },
            "colorscale": [
             [
              0,
              "#0d0887"
             ],
             [
              0.1111111111111111,
              "#46039f"
             ],
             [
              0.2222222222222222,
              "#7201a8"
             ],
             [
              0.3333333333333333,
              "#9c179e"
             ],
             [
              0.4444444444444444,
              "#bd3786"
             ],
             [
              0.5555555555555556,
              "#d8576b"
             ],
             [
              0.6666666666666666,
              "#ed7953"
             ],
             [
              0.7777777777777778,
              "#fb9f3a"
             ],
             [
              0.8888888888888888,
              "#fdca26"
             ],
             [
              1,
              "#f0f921"
             ]
            ],
            "type": "contour"
           }
          ],
          "contourcarpet": [
           {
            "colorbar": {
             "outlinewidth": 0,
             "ticks": ""
            },
            "type": "contourcarpet"
           }
          ],
          "heatmap": [
           {
            "colorbar": {
             "outlinewidth": 0,
             "ticks": ""
            },
            "colorscale": [
             [
              0,
              "#0d0887"
             ],
             [
              0.1111111111111111,
              "#46039f"
             ],
             [
              0.2222222222222222,
              "#7201a8"
             ],
             [
              0.3333333333333333,
              "#9c179e"
             ],
             [
              0.4444444444444444,
              "#bd3786"
             ],
             [
              0.5555555555555556,
              "#d8576b"
             ],
             [
              0.6666666666666666,
              "#ed7953"
             ],
             [
              0.7777777777777778,
              "#fb9f3a"
             ],
             [
              0.8888888888888888,
              "#fdca26"
             ],
             [
              1,
              "#f0f921"
             ]
            ],
            "type": "heatmap"
           }
          ],
          "histogram": [
           {
            "marker": {
             "pattern": {
              "fillmode": "overlay",
              "size": 10,
              "solidity": 0.2
             }
            },
            "type": "histogram"
           }
          ],
          "histogram2d": [
           {
            "colorbar": {
             "outlinewidth": 0,
             "ticks": ""
            },
            "colorscale": [
             [
              0,
              "#0d0887"
             ],
             [
              0.1111111111111111,
              "#46039f"
             ],
             [
              0.2222222222222222,
              "#7201a8"
             ],
             [
              0.3333333333333333,
              "#9c179e"
             ],
             [
              0.4444444444444444,
              "#bd3786"
             ],
             [
              0.5555555555555556,
              "#d8576b"
             ],
             [
              0.6666666666666666,
              "#ed7953"
             ],
             [
              0.7777777777777778,
              "#fb9f3a"
             ],
             [
              0.8888888888888888,
              "#fdca26"
             ],
             [
              1,
              "#f0f921"
             ]
            ],
            "type": "histogram2d"
           }
          ],
          "histogram2dcontour": [
           {
            "colorbar": {
             "outlinewidth": 0,
             "ticks": ""
            },
            "colorscale": [
             [
              0,
              "#0d0887"
             ],
             [
              0.1111111111111111,
              "#46039f"
             ],
             [
              0.2222222222222222,
              "#7201a8"
             ],
             [
              0.3333333333333333,
              "#9c179e"
             ],
             [
              0.4444444444444444,
              "#bd3786"
             ],
             [
              0.5555555555555556,
              "#d8576b"
             ],
             [
              0.6666666666666666,
              "#ed7953"
             ],
             [
              0.7777777777777778,
              "#fb9f3a"
             ],
             [
              0.8888888888888888,
              "#fdca26"
             ],
             [
              1,
              "#f0f921"
             ]
            ],
            "type": "histogram2dcontour"
           }
          ],
          "mesh3d": [
           {
            "colorbar": {
             "outlinewidth": 0,
             "ticks": ""
            },
            "type": "mesh3d"
           }
          ],
          "parcoords": [
           {
            "line": {
             "colorbar": {
              "outlinewidth": 0,
              "ticks": ""
             }
            },
            "type": "parcoords"
           }
          ],
          "pie": [
           {
            "automargin": true,
            "type": "pie"
           }
          ],
          "scatter": [
           {
            "fillpattern": {
             "fillmode": "overlay",
             "size": 10,
             "solidity": 0.2
            },
            "type": "scatter"
           }
          ],
          "scatter3d": [
           {
            "line": {
             "colorbar": {
              "outlinewidth": 0,
              "ticks": ""
             }
            },
            "marker": {
             "colorbar": {
              "outlinewidth": 0,
              "ticks": ""
             }
            },
            "type": "scatter3d"
           }
          ],
          "scattercarpet": [
           {
            "marker": {
             "colorbar": {
              "outlinewidth": 0,
              "ticks": ""
             }
            },
            "type": "scattercarpet"
           }
          ],
          "scattergeo": [
           {
            "marker": {
             "colorbar": {
              "outlinewidth": 0,
              "ticks": ""
             }
            },
            "type": "scattergeo"
           }
          ],
          "scattergl": [
           {
            "marker": {
             "colorbar": {
              "outlinewidth": 0,
              "ticks": ""
             }
            },
            "type": "scattergl"
           }
          ],
          "scattermap": [
           {
            "marker": {
             "colorbar": {
              "outlinewidth": 0,
              "ticks": ""
             }
            },
            "type": "scattermap"
           }
          ],
          "scattermapbox": [
           {
            "marker": {
             "colorbar": {
              "outlinewidth": 0,
              "ticks": ""
             }
            },
            "type": "scattermapbox"
           }
          ],
          "scatterpolar": [
           {
            "marker": {
             "colorbar": {
              "outlinewidth": 0,
              "ticks": ""
             }
            },
            "type": "scatterpolar"
           }
          ],
          "scatterpolargl": [
           {
            "marker": {
             "colorbar": {
              "outlinewidth": 0,
              "ticks": ""
             }
            },
            "type": "scatterpolargl"
           }
          ],
          "scatterternary": [
           {
            "marker": {
             "colorbar": {
              "outlinewidth": 0,
              "ticks": ""
             }
            },
            "type": "scatterternary"
           }
          ],
          "surface": [
           {
            "colorbar": {
             "outlinewidth": 0,
             "ticks": ""
            },
            "colorscale": [
             [
              0,
              "#0d0887"
             ],
             [
              0.1111111111111111,
              "#46039f"
             ],
             [
              0.2222222222222222,
              "#7201a8"
             ],
             [
              0.3333333333333333,
              "#9c179e"
             ],
             [
              0.4444444444444444,
              "#bd3786"
             ],
             [
              0.5555555555555556,
              "#d8576b"
             ],
             [
              0.6666666666666666,
              "#ed7953"
             ],
             [
              0.7777777777777778,
              "#fb9f3a"
             ],
             [
              0.8888888888888888,
              "#fdca26"
             ],
             [
              1,
              "#f0f921"
             ]
            ],
            "type": "surface"
           }
          ],
          "table": [
           {
            "cells": {
             "fill": {
              "color": "#EBF0F8"
             },
             "line": {
              "color": "white"
             }
            },
            "header": {
             "fill": {
              "color": "#C8D4E3"
             },
             "line": {
              "color": "white"
             }
            },
            "type": "table"
           }
          ]
         },
         "layout": {
          "annotationdefaults": {
           "arrowcolor": "#2a3f5f",
           "arrowhead": 0,
           "arrowwidth": 1
          },
          "autotypenumbers": "strict",
          "coloraxis": {
           "colorbar": {
            "outlinewidth": 0,
            "ticks": ""
           }
          },
          "colorscale": {
           "diverging": [
            [
             0,
             "#8e0152"
            ],
            [
             0.1,
             "#c51b7d"
            ],
            [
             0.2,
             "#de77ae"
            ],
            [
             0.3,
             "#f1b6da"
            ],
            [
             0.4,
             "#fde0ef"
            ],
            [
             0.5,
             "#f7f7f7"
            ],
            [
             0.6,
             "#e6f5d0"
            ],
            [
             0.7,
             "#b8e186"
            ],
            [
             0.8,
             "#7fbc41"
            ],
            [
             0.9,
             "#4d9221"
            ],
            [
             1,
             "#276419"
            ]
           ],
           "sequential": [
            [
             0,
             "#0d0887"
            ],
            [
             0.1111111111111111,
             "#46039f"
            ],
            [
             0.2222222222222222,
             "#7201a8"
            ],
            [
             0.3333333333333333,
             "#9c179e"
            ],
            [
             0.4444444444444444,
             "#bd3786"
            ],
            [
             0.5555555555555556,
             "#d8576b"
            ],
            [
             0.6666666666666666,
             "#ed7953"
            ],
            [
             0.7777777777777778,
             "#fb9f3a"
            ],
            [
             0.8888888888888888,
             "#fdca26"
            ],
            [
             1,
             "#f0f921"
            ]
           ],
           "sequentialminus": [
            [
             0,
             "#0d0887"
            ],
            [
             0.1111111111111111,
             "#46039f"
            ],
            [
             0.2222222222222222,
             "#7201a8"
            ],
            [
             0.3333333333333333,
             "#9c179e"
            ],
            [
             0.4444444444444444,
             "#bd3786"
            ],
            [
             0.5555555555555556,
             "#d8576b"
            ],
            [
             0.6666666666666666,
             "#ed7953"
            ],
            [
             0.7777777777777778,
             "#fb9f3a"
            ],
            [
             0.8888888888888888,
             "#fdca26"
            ],
            [
             1,
             "#f0f921"
            ]
           ]
          },
          "colorway": [
           "#636efa",
           "#EF553B",
           "#00cc96",
           "#ab63fa",
           "#FFA15A",
           "#19d3f3",
           "#FF6692",
           "#B6E880",
           "#FF97FF",
           "#FECB52"
          ],
          "font": {
           "color": "#2a3f5f"
          },
          "geo": {
           "bgcolor": "white",
           "lakecolor": "white",
           "landcolor": "white",
           "showlakes": true,
           "showland": true,
           "subunitcolor": "#C8D4E3"
          },
          "hoverlabel": {
           "align": "left"
          },
          "hovermode": "closest",
          "mapbox": {
           "style": "light"
          },
          "paper_bgcolor": "white",
          "plot_bgcolor": "white",
          "polar": {
           "angularaxis": {
            "gridcolor": "#EBF0F8",
            "linecolor": "#EBF0F8",
            "ticks": ""
           },
           "bgcolor": "white",
           "radialaxis": {
            "gridcolor": "#EBF0F8",
            "linecolor": "#EBF0F8",
            "ticks": ""
           }
          },
          "scene": {
           "xaxis": {
            "backgroundcolor": "white",
            "gridcolor": "#DFE8F3",
            "gridwidth": 2,
            "linecolor": "#EBF0F8",
            "showbackground": true,
            "ticks": "",
            "zerolinecolor": "#EBF0F8"
           },
           "yaxis": {
            "backgroundcolor": "white",
            "gridcolor": "#DFE8F3",
            "gridwidth": 2,
            "linecolor": "#EBF0F8",
            "showbackground": true,
            "ticks": "",
            "zerolinecolor": "#EBF0F8"
           },
           "zaxis": {
            "backgroundcolor": "white",
            "gridcolor": "#DFE8F3",
            "gridwidth": 2,
            "linecolor": "#EBF0F8",
            "showbackground": true,
            "ticks": "",
            "zerolinecolor": "#EBF0F8"
           }
          },
          "shapedefaults": {
           "line": {
            "color": "#2a3f5f"
           }
          },
          "ternary": {
           "aaxis": {
            "gridcolor": "#DFE8F3",
            "linecolor": "#A2B1C6",
            "ticks": ""
           },
           "baxis": {
            "gridcolor": "#DFE8F3",
            "linecolor": "#A2B1C6",
            "ticks": ""
           },
           "bgcolor": "white",
           "caxis": {
            "gridcolor": "#DFE8F3",
            "linecolor": "#A2B1C6",
            "ticks": ""
           }
          },
          "title": {
           "x": 0.05
          },
          "xaxis": {
           "automargin": true,
           "gridcolor": "#EBF0F8",
           "linecolor": "#EBF0F8",
           "ticks": "",
           "title": {
            "standoff": 15
           },
           "zerolinecolor": "#EBF0F8",
           "zerolinewidth": 2
          },
          "yaxis": {
           "automargin": true,
           "gridcolor": "#EBF0F8",
           "linecolor": "#EBF0F8",
           "ticks": "",
           "title": {
            "standoff": 15
           },
           "zerolinecolor": "#EBF0F8",
           "zerolinewidth": 2
          }
         }
        },
        "title": {
         "text": " Top 10 Customers by Spending"
        },
        "xaxis": {
         "anchor": "y",
         "domain": [
          0,
          1
         ],
         "title": {
          "text": "money"
         }
        },
        "yaxis": {
         "anchor": "x",
         "domain": [
          0,
          1
         ],
         "title": {
          "text": "card"
         }
        }
       }
      },
      "image/png": "[encoded data removed]"
     },
     "metadata": {},
     "output_type": "display_data"
    }
   ],
   "source": [
    "# Plot 6: Top Customers\n",
    "top_customers = df.groupby(\"card\")[\"money\"].sum().reset_index().sort_values(by=\"money\", ascending=False).head(10)\n",
    "\n",
    "fig6 = px.bar(\n",
    "    top_customers,\n",
    "    x=\"money\", y=\"card\",\n",
    "    orientation=\"h\",\n",
    "    title=\" Top 10 Customers by Spending\",\n",
    "    color=\"money\",\n",
    "    color_continuous_scale=coffee_palette\n",
    ")\n",
    "\n",
    "fig6.update_layout(\n",
    "    template=\"plotly_white\",\n",
    "    paper_bgcolor=\"#FFF4E6\",\n",
    "    font=dict(color=\"#3C2F2F\", size=14)\n",
    ")\n",
    "fig6.show()"
   ]
  },
  {
   "cell_type": "code",
   "execution_count": 13,
   "id": "e563a2f2-f45a-4603-9188-41fb215ebd83",
   "metadata": {},
   "outputs": [
    {
     "data": {
      "application/vnd.plotly.v1+json": {
       "config": {
        "plotlyServerURL": "https://plot.ly"
       },
       "data": [
        {
         "alignmentgroup": "True",
         "hovertemplate": "coffee_name=%{x}<br>money=%{y}<extra></extra>",
         "legendgroup": "Latte",
         "marker": {
          "color": "#3C2F2F"
         },
         "name": "Latte",
         "notched": false,
         "offsetgroup": "Latte",
         "orientation": "v",
         "showlegend": true,
         "type": "box",
         "x": [
          "Latte",
          "Latte",
          "Latte",
          "Latte",
          "Latte",
          "Latte",
          "Latte",
          "Latte",
          "Latte",
          "Latte",
          "Latte",
          "Latte",
          "Latte",
          "Latte",
          "Latte",
          "Latte",
          "Latte",
          "Latte",
          "Latte",
          "Latte",
          "Latte",
          "Latte",
          "Latte",
          "Latte",
          "Latte",
          "Latte",
          "Latte",
          "Latte",
          "Latte",
          "Latte",
          "Latte",
          "Latte",
          "Latte",
          "Latte",
          "Latte",
          "Latte",
          "Latte",
          "Latte",
          "Latte",
          "Latte",
          "Latte",
          "Latte",
          "Latte",
          "Latte",
          "Latte",
          "Latte",
          "Latte",
          "Latte",
          "Latte",
          "Latte",
          "Latte",
          "Latte",
          "Latte",
          "Latte",
          "Latte",
          "Latte",
          "Latte",
          "Latte",
          "Latte",
          "Latte",
          "Latte",
          "Latte",
          "Latte",
          "Latte",
          "Latte",
          "Latte",
          "Latte",
          "Latte",
          "Latte",
          "Latte",
          "Latte",
          "Latte",
          "Latte",
          "Latte",
          "Latte",
          "Latte",
          "Latte",
          "Latte",
          "Latte",
          "Latte",
          "Latte",
          "Latte",
          "Latte",
          "Latte",
          "Latte",
          "Latte",
          "Latte",
          "Latte",
          "Latte",
          "Latte",
          "Latte",
          "Latte",
          "Latte",
          "Latte",
          "Latte",
          "Latte",
          "Latte",
          "Latte",
          "Latte",
          "Latte",
          "Latte",
          "Latte",
          "Latte",
          "Latte",
          "Latte",
          "Latte",
          "Latte",
          "Latte",
          "Latte",
          "Latte",
          "Latte",
          "Latte",
          "Latte",
          "Latte",
          "Latte",
          "Latte",
          "Latte",
          "Latte",
          "Latte",
          "Latte",
          "Latte",
          "Latte",
          "Latte",
          "Latte",
          "Latte",
          "Latte",
          "Latte",
          "Latte",
          "Latte",
          "Latte",
          "Latte",
          "Latte",
          "Latte",
          "Latte",
          "Latte",
          "Latte",
          "Latte",
          "Latte",
          "Latte",
          "Latte",
          "Latte",
          "Latte",
          "Latte",
          "Latte",
          "Latte",
          "Latte",
          "Latte",
          "Latte",
          "Latte",
          "Latte",
          "Latte",
          "Latte",
          "Latte",
          "Latte",
          "Latte",
          "Latte",
          "Latte",
          "Latte",
          "Latte",
          "Latte",
          "Latte",
          "Latte",
          "Latte",
          "Latte",
          "Latte",
          "Latte",
          "Latte",
          "Latte",
          "Latte",
          "Latte",
          "Latte",
          "Latte",
          "Latte",
          "Latte",
          "Latte",
          "Latte",
          "Latte",
          "Latte",
          "Latte",
          "Latte",
          "Latte",
          "Latte",
          "Latte",
          "Latte",
          "Latte",
          "Latte",
          "Latte",
          "Latte",
          "Latte",
          "Latte",
          "Latte",
          "Latte",
          "Latte",
          "Latte",
          "Latte",
          "Latte",
          "Latte",
          "Latte",
          "Latte",
          "Latte",
          "Latte",
          "Latte",
          "Latte",
          "Latte",
          "Latte",
          "Latte",
          "Latte",
          "Latte",
          "Latte",
          "Latte",
          "Latte",
          "Latte",
          "Latte",
          "Latte",
          "Latte",
          "Latte",
          "Latte",
          "Latte",
          "Latte",
          "Latte",
          "Latte",
          "Latte",
          "Latte",
          "Latte",
          "Latte",
          "Latte",
          "Latte",
          "Latte",
          "Latte",
          "Latte",
          "Latte",
          "Latte",
          "Latte",
          "Latte",
          "Latte",
          "Latte",
          "Latte",
          "Latte",
          "Latte",
          "Latte",
          "Latte",
          "Latte",
          "Latte"
         ],
         "x0": " ",
         "xaxis": "x",
         "y": {
          "bdata": "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",
          "dtype": "f8"
         },
         "y0": " ",
         "yaxis": "y"
        },
        {
         "alignmentgroup": "True",
         "hovertemplate": "coffee_name=%{x}<br>money=%{y}<extra></extra>",
         "legendgroup": "Hot Chocolate",
         "marker": {
          "color": "#6F4E37"
         },
         "name": "Hot Chocolate",
         "notched": false,
         "offsetgroup": "Hot Chocolate",
         "orientation": "v",
         "showlegend": true,
         "type": "box",
         "x": [
          "Hot Chocolate",
          "Hot Chocolate",
          "Hot Chocolate",
          "Hot Chocolate",
          "Hot Chocolate",
          "Hot Chocolate",
          "Hot Chocolate",
          "Hot Chocolate",
          "Hot Chocolate",
          "Hot Chocolate",
          "Hot Chocolate",
          "Hot Chocolate",
          "Hot Chocolate",
          "Hot Chocolate",
          "Hot Chocolate",
          "Hot Chocolate",
          "Hot Chocolate",
          "Hot Chocolate",
          "Hot Chocolate",
          "Hot Chocolate",
          "Hot Chocolate",
          "Hot Chocolate",
          "Hot Chocolate",
          "Hot Chocolate",
          "Hot Chocolate",
          "Hot Chocolate",
          "Hot Chocolate",
          "Hot Chocolate",
          "Hot Chocolate",
          "Hot Chocolate",
          "Hot Chocolate",
          "Hot Chocolate",
          "Hot Chocolate",
          "Hot Chocolate",
          "Hot Chocolate",
          "Hot Chocolate",
          "Hot Chocolate",
          "Hot Chocolate",
          "Hot Chocolate",
          "Hot Chocolate",
          "Hot Chocolate",
          "Hot Chocolate",
          "Hot Chocolate",
          "Hot Chocolate",
          "Hot Chocolate",
          "Hot Chocolate",
          "Hot Chocolate",
          "Hot Chocolate",
          "Hot Chocolate",
          "Hot Chocolate",
          "Hot Chocolate",
          "Hot Chocolate",
          "Hot Chocolate",
          "Hot Chocolate",
          "Hot Chocolate",
          "Hot Chocolate",
          "Hot Chocolate",
          "Hot Chocolate",
          "Hot Chocolate",
          "Hot Chocolate",
          "Hot Chocolate",
          "Hot Chocolate",
          "Hot Chocolate",
          "Hot Chocolate",
          "Hot Chocolate",
          "Hot Chocolate",
          "Hot Chocolate",
          "Hot Chocolate",
          "Hot Chocolate",
          "Hot Chocolate",
          "Hot Chocolate",
          "Hot Chocolate",
          "Hot Chocolate",
          "Hot Chocolate"
         ],
         "x0": " ",
         "xaxis": "x",
         "y": {
          "bdata": "mpmZmZlZQ0CamZmZmVlDQJqZmZmZWUNAmpmZmZlZQ0CamZmZmVlDQJqZmZmZWUNAmpmZmZlZQ0CamZmZmVlDQJqZmZmZWUNAmpmZmZlZQ0AAAAAAAABEQJqZmZmZWUNAmpmZmZlZQ0CamZmZmVlDQJqZmZmZWUNAmpmZmZlZQ0CamZmZmVlDQJqZmZmZWUNAmpmZmZlZQ0AAAAAAAABEQJqZmZmZWUNAmpmZmZlZQ0CamZmZmVlDQJqZmZmZWUNAmpmZmZlZQ0CamZmZmVlDQAAAAAAAAERAmpmZmZlZQ0AAAAAAAABEQAAAAAAAAERAmpmZmZlZQ0CamZmZmVlDQJqZmZmZWUNAmpmZmZlZQ0Bcj8L1KNxCQFyPwvUo3EJAXI/C9SjcQkBcj8L1KNxCQFyPwvUo3EJAXI/C9SjcQkAAAAAAAIBDQFyPwvUo3EJAXI/C9SjcQkBcj8L1KNxCQFyPwvUo3EJAXI/C9SjcQkBcj8L1KNxCQFyPwvUo3EJAXI/C9SjcQkBcj8L1KNxCQFyPwvUo3EJAXI/C9SjcQkBcj8L1KNxCQFyPwvUo3EJAXI/C9SjcQkBcj8L1KNxCQFyPwvUo3EJAXI/C9SjcQkBcj8L1KNxCQFyPwvUo3EJAXI/C9SjcQkBcj8L1KNxCQFyPwvUo3EJAKVyPwvVoQEApXI/C9WhAQClcj8L1aEBAKVyPwvVoQEApXI/C9WhAQClcj8L1aEBAKVyPwvVoQEApXI/C9WhAQClcj8L1aEBAKVyPwvVoQEApXI/C9WhAQA==",
          "dtype": "f8"
         },
         "y0": " ",
         "yaxis": "y"
        },
        {
         "alignmentgroup": "True",
         "hovertemplate": "coffee_name=%{x}<br>money=%{y}<extra></extra>",
         "legendgroup": "Americano",
         "marker": {
          "color": "#7B3F00"
         },
         "name": "Americano",
         "notched": false,
         "offsetgroup": "Americano",
         "orientation": "v",
         "showlegend": true,
         "type": "box",
         "x": [
          "Americano",
          "Americano",
          "Americano",
          "Americano",
          "Americano",
          "Americano",
          "Americano",
          "Americano",
          "Americano",
          "Americano",
          "Americano",
          "Americano",
          "Americano",
          "Americano",
          "Americano",
          "Americano",
          "Americano",
          "Americano",
          "Americano",
          "Americano",
          "Americano",
          "Americano",
          "Americano",
          "Americano",
          "Americano",
          "Americano",
          "Americano",
          "Americano",
          "Americano",
          "Americano",
          "Americano",
          "Americano",
          "Americano",
          "Americano",
          "Americano",
          "Americano",
          "Americano",
          "Americano",
          "Americano",
          "Americano",
          "Americano",
          "Americano",
          "Americano",
          "Americano",
          "Americano",
          "Americano",
          "Americano",
          "Americano",
          "Americano",
          "Americano",
          "Americano",
          "Americano",
          "Americano",
          "Americano",
          "Americano",
          "Americano",
          "Americano",
          "Americano",
          "Americano",
          "Americano",
          "Americano",
          "Americano",
          "Americano",
          "Americano",
          "Americano",
          "Americano",
          "Americano",
          "Americano",
          "Americano",
          "Americano",
          "Americano",
          "Americano",
          "Americano",
          "Americano",
          "Americano",
          "Americano",
          "Americano",
          "Americano",
          "Americano",
          "Americano",
          "Americano",
          "Americano",
          "Americano",
          "Americano",
          "Americano",
          "Americano",
          "Americano",
          "Americano",
          "Americano",
          "Americano",
          "Americano",
          "Americano",
          "Americano",
          "Americano",
          "Americano",
          "Americano",
          "Americano",
          "Americano",
          "Americano",
          "Americano",
          "Americano",
          "Americano",
          "Americano",
          "Americano",
          "Americano",
          "Americano",
          "Americano",
          "Americano",
          "Americano",
          "Americano",
          "Americano",
          "Americano",
          "Americano",
          "Americano",
          "Americano",
          "Americano",
          "Americano",
          "Americano",
          "Americano",
          "Americano",
          "Americano",
          "Americano",
          "Americano",
          "Americano",
          "Americano",
          "Americano",
          "Americano",
          "Americano",
          "Americano",
          "Americano",
          "Americano",
          "Americano",
          "Americano",
          "Americano",
          "Americano",
          "Americano",
          "Americano",
          "Americano",
          "Americano",
          "Americano",
          "Americano",
          "Americano",
          "Americano",
          "Americano",
          "Americano",
          "Americano",
          "Americano",
          "Americano",
          "Americano",
          "Americano",
          "Americano",
          "Americano",
          "Americano",
          "Americano",
          "Americano",
          "Americano",
          "Americano",
          "Americano",
          "Americano",
          "Americano",
          "Americano",
          "Americano",
          "Americano",
          "Americano",
          "Americano",
          "Americano",
          "Americano",
          "Americano",
          "Americano"
         ],
         "x0": " ",
         "xaxis": "x",
         "y": {
          "bdata": "ZmZmZmbmPEBmZmZmZuY8QGZmZmZm5jxAZmZmZmbmPEBmZmZmZuY8QGZmZmZm5jxAZmZmZmbmPEBmZmZmZuY8QGZmZmZm5jxAZmZmZmbmPEBmZmZmZuY8QGZmZmZm5jxAZmZmZmbmPEAAAAAAAAA+QAAAAAAAAD5AZmZmZmbmPEBmZmZmZuY8QGZmZmZm5jxAZmZmZmbmPEBmZmZmZuY8QGZmZmZm5jxAZmZmZmbmPEBmZmZmZuY8QGZmZmZm5jxAZmZmZmbmPEBmZmZmZuY8QGZmZmZm5jxAZmZmZmbmPEAAAAAAAAA+QGZmZmZm5jxAZmZmZmbmPEBmZmZmZuY8QGZmZmZm5jxAZmZmZmbmPEBmZmZmZuY8QAAAAAAAAD5AZmZmZmbmPEBmZmZmZuY8QGZmZmZm5jxAZmZmZmbmPEBmZmZmZuY8QAAAAAAAAD5AZmZmZmbmPEBmZmZmZuY8QGZmZmZm5jxAAAAAAAAAPkBmZmZmZuY8QGZmZmZm5jxAZmZmZmbmPEBmZmZmZuY8QGZmZmZm5jxAZmZmZmbmPEBmZmZmZuY8QGZmZmZm5jxAZmZmZmbmPEBmZmZmZuY8QGZmZmZm5jxAZmZmZmbmPEBmZmZmZuY8QOxRuB6F6ztA7FG4HoXrO0DsUbgehes7QOxRuB6F6ztA7FG4HoXrO0DsUbgehes7QOxRuB6F6ztA7FG4HoXrO0DsUbgehes7QOxRuB6F6ztA7FG4HoXrO0DsUbgehes7QOxRuB6F6ztA7FG4HoXrO0DsUbgehes7QAAAAAAAAD1A7FG4HoXrO0DsUbgehes7QOxRuB6F6ztA7FG4HoXrO0DsUbgehes7QOxRuB6F6ztA7FG4HoXrO0AAAAAAAAA9QAAAAAAAAD1A7FG4HoXrO0DsUbgehes7QOxRuB6F6ztA7FG4HoXrO0DsUbgehes7QOxRuB6F6ztA7FG4HoXrO0DsUbgehes7QAAAAAAAAD1A7FG4HoXrO0DsUbgehes7QOxRuB6F6ztA7FG4HoXrO0DsUbgehes7QOxRuB6F6ztA7FG4HoXrO0DsUbgehes7QOxRuB6F6ztAAAAAAAAAPUAAAAAAAAA9QOxRuB6F6ztA7FG4HoXrO0DsUbgehes7QOxRuB6F6ztAAAAAAAAAPUAAAAAAAAA9QOxRuB6F6ztA7FG4HoXrO0DsUbgehes7QOxRuB6F6ztA7FG4HoXrO0DsUbgehes7QOxRuB6F6ztA7FG4HoXrO0DsUbgehes7QOxRuB6F6ztA7FG4HoXrO0DsUbgehes7QOxRuB6F6ztA7FG4HoXrO0DsUbgehes7QOxRuB6F6ztA7FG4HoXrO0DsUbgehes7QOxRuB6F6ztA7FG4HoXrO0DsUbgehes7QOxRuB6F6ztA7FG4HoXrO0DsUbgehes7QOxRuB6F6ztA7FG4HoXrO0DsUbgehes7QOxRuB6F6ztA7FG4HoXrO0CF61G4HgU3QIXrUbgeBTdAhetRuB4FN0CF61G4HgU3QIXrUbgeBTdAhetRuB4FN0CF61G4HgU3QIXrUbgeBTdAhetRuB4FN0CF61G4HgU3QIXrUbgeBTdAhetRuB4FN0CF61G4HgU3QIXrUbgeBTdAhetRuB4FN0CF61G4HgU3QIXrUbgeBTdAhetRuB4FN0CF61G4HgU3QIXrUbgeBTdAhetRuB4FN0CF61G4HgU3QIXrUbgeBTdAhetRuB4FN0CF61G4HgU3QIXrUbgeBTdAhetRuB4FN0CF61G4HgU3QIXrUbgeBTdAhetRuB4FN0A=",
          "dtype": "f8"
         },
         "y0": " ",
         "yaxis": "y"
        },
        {
         "alignmentgroup": "True",
         "hovertemplate": "coffee_name=%{x}<br>money=%{y}<extra></extra>",
         "legendgroup": "Americano with Milk",
         "marker": {
          "color": "#8B5A2B"
         },
         "name": "Americano with Milk",
         "notched": false,
         "offsetgroup": "Americano with Milk",
         "orientation": "v",
         "showlegend": true,
         "type": "box",
         "x": [
          "Americano with Milk",
          "Americano with Milk",
          "Americano with Milk",
          "Americano with Milk",
          "Americano with Milk",
          "Americano with Milk",
          "Americano with Milk",
          "Americano with Milk",
          "Americano with Milk",
          "Americano with Milk",
          "Americano with Milk",
          "Americano with Milk",
          "Americano with Milk",
          "Americano with Milk",
          "Americano with Milk",
          "Americano with Milk",
          "Americano with Milk",
          "Americano with Milk",
          "Americano with Milk",
          "Americano with Milk",
          "Americano with Milk",
          "Americano with Milk",
          "Americano with Milk",
          "Americano with Milk",
          "Americano with Milk",
          "Americano with Milk",
          "Americano with Milk",
          "Americano with Milk",
          "Americano with Milk",
          "Americano with Milk",
          "Americano with Milk",
          "Americano with Milk",
          "Americano with Milk",
          "Americano with Milk",
          "Americano with Milk",
          "Americano with Milk",
          "Americano with Milk",
          "Americano with Milk",
          "Americano with Milk",
          "Americano with Milk",
          "Americano with Milk",
          "Americano with Milk",
          "Americano with Milk",
          "Americano with Milk",
          "Americano with Milk",
          "Americano with Milk",
          "Americano with Milk",
          "Americano with Milk",
          "Americano with Milk",
          "Americano with Milk",
          "Americano with Milk",
          "Americano with Milk",
          "Americano with Milk",
          "Americano with Milk",
          "Americano with Milk",
          "Americano with Milk",
          "Americano with Milk",
          "Americano with Milk",
          "Americano with Milk",
          "Americano with Milk",
          "Americano with Milk",
          "Americano with Milk",
          "Americano with Milk",
          "Americano with Milk",
          "Americano with Milk",
          "Americano with Milk",
          "Americano with Milk",
          "Americano with Milk",
          "Americano with Milk",
          "Americano with Milk",
          "Americano with Milk",
          "Americano with Milk",
          "Americano with Milk",
          "Americano with Milk",
          "Americano with Milk",
          "Americano with Milk",
          "Americano with Milk",
          "Americano with Milk",
          "Americano with Milk",
          "Americano with Milk",
          "Americano with Milk",
          "Americano with Milk",
          "Americano with Milk",
          "Americano with Milk",
          "Americano with Milk",
          "Americano with Milk",
          "Americano with Milk",
          "Americano with Milk",
          "Americano with Milk",
          "Americano with Milk",
          "Americano with Milk",
          "Americano with Milk",
          "Americano with Milk",
          "Americano with Milk",
          "Americano with Milk",
          "Americano with Milk",
          "Americano with Milk",
          "Americano with Milk",
          "Americano with Milk",
          "Americano with Milk",
          "Americano with Milk",
          "Americano with Milk",
          "Americano with Milk",
          "Americano with Milk",
          "Americano with Milk",
          "Americano with Milk",
          "Americano with Milk",
          "Americano with Milk",
          "Americano with Milk",
          "Americano with Milk",
          "Americano with Milk",
          "Americano with Milk",
          "Americano with Milk",
          "Americano with Milk",
          "Americano with Milk",
          "Americano with Milk",
          "Americano with Milk",
          "Americano with Milk",
          "Americano with Milk",
          "Americano with Milk",
          "Americano with Milk",
          "Americano with Milk",
          "Americano with Milk",
          "Americano with Milk",
          "Americano with Milk",
          "Americano with Milk",
          "Americano with Milk",
          "Americano with Milk",
          "Americano with Milk",
          "Americano with Milk",
          "Americano with Milk",
          "Americano with Milk",
          "Americano with Milk",
          "Americano with Milk",
          "Americano with Milk",
          "Americano with Milk",
          "Americano with Milk",
          "Americano with Milk",
          "Americano with Milk",
          "Americano with Milk",
          "Americano with Milk",
          "Americano with Milk",
          "Americano with Milk",
          "Americano with Milk",
          "Americano with Milk",
          "Americano with Milk",
          "Americano with Milk",
          "Americano with Milk",
          "Americano with Milk",
          "Americano with Milk",
          "Americano with Milk",
          "Americano with Milk",
          "Americano with Milk",
          "Americano with Milk",
          "Americano with Milk",
          "Americano with Milk",
          "Americano with Milk",
          "Americano with Milk",
          "Americano with Milk",
          "Americano with Milk",
          "Americano with Milk",
          "Americano with Milk",
          "Americano with Milk",
          "Americano with Milk",
          "Americano with Milk",
          "Americano with Milk",
          "Americano with Milk",
          "Americano with Milk",
          "Americano with Milk",
          "Americano with Milk",
          "Americano with Milk",
          "Americano with Milk",
          "Americano with Milk",
          "Americano with Milk",
          "Americano with Milk",
          "Americano with Milk",
          "Americano with Milk",
          "Americano with Milk",
          "Americano with Milk",
          "Americano with Milk",
          "Americano with Milk",
          "Americano with Milk",
          "Americano with Milk",
          "Americano with Milk",
          "Americano with Milk",
          "Americano with Milk",
          "Americano with Milk",
          "Americano with Milk",
          "Americano with Milk",
          "Americano with Milk",
          "Americano with Milk",
          "Americano with Milk",
          "Americano with Milk",
          "Americano with Milk",
          "Americano with Milk",
          "Americano with Milk",
          "Americano with Milk",
          "Americano with Milk",
          "Americano with Milk",
          "Americano with Milk",
          "Americano with Milk",
          "Americano with Milk",
          "Americano with Milk",
          "Americano with Milk",
          "Americano with Milk",
          "Americano with Milk",
          "Americano with Milk",
          "Americano with Milk",
          "Americano with Milk",
          "Americano with Milk",
          "Americano with Milk",
          "Americano with Milk",
          "Americano with Milk",
          "Americano with Milk",
          "Americano with Milk",
          "Americano with Milk",
          "Americano with Milk",
          "Americano with Milk",
          "Americano with Milk",
          "Americano with Milk",
          "Americano with Milk",
          "Americano with Milk",
          "Americano with Milk",
          "Americano with Milk",
          "Americano with Milk",
          "Americano with Milk",
          "Americano with Milk",
          "Americano with Milk",
          "Americano with Milk",
          "Americano with Milk",
          "Americano with Milk",
          "Americano with Milk",
          "Americano with Milk",
          "Americano with Milk",
          "Americano with Milk",
          "Americano with Milk",
          "Americano with Milk",
          "Americano with Milk",
          "Americano with Milk",
          "Americano with Milk",
          "Americano with Milk",
          "Americano with Milk",
          "Americano with Milk",
          "Americano with Milk",
          "Americano with Milk",
          "Americano with Milk",
          "Americano with Milk",
          "Americano with Milk",
          "Americano with Milk",
          "Americano with Milk",
          "Americano with Milk",
          "Americano with Milk",
          "Americano with Milk",
          "Americano with Milk",
          "Americano with Milk",
          "Americano with Milk",
          "Americano with Milk",
          "Americano with Milk",
          "Americano with Milk",
          "Americano with Milk",
          "Americano with Milk",
          "Americano with Milk",
          "Americano with Milk",
          "Americano with Milk",
          "Americano with Milk",
          "Americano with Milk",
          "Americano with Milk",
          "Americano with Milk"
         ],
         "x0": " ",
         "xaxis": "x",
         "y": {
          "bdata": "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",
          "dtype": "f8"
         },
         "y0": " ",
         "yaxis": "y"
        },
        {
         "alignmentgroup": "True",
         "hovertemplate": "coffee_name=%{x}<br>money=%{y}<extra></extra>",
         "legendgroup": "Cocoa",
         "marker": {
          "color": "#A9746E"
         },
         "name": "Cocoa",
         "notched": false,
         "offsetgroup": "Cocoa",
         "orientation": "v",
         "showlegend": true,
         "type": "box",
         "x": [
          "Cocoa",
          "Cocoa",
          "Cocoa",
          "Cocoa",
          "Cocoa",
          "Cocoa",
          "Cocoa",
          "Cocoa",
          "Cocoa",
          "Cocoa",
          "Cocoa",
          "Cocoa",
          "Cocoa",
          "Cocoa",
          "Cocoa",
          "Cocoa",
          "Cocoa",
          "Cocoa",
          "Cocoa",
          "Cocoa",
          "Cocoa",
          "Cocoa",
          "Cocoa",
          "Cocoa",
          "Cocoa",
          "Cocoa",
          "Cocoa",
          "Cocoa",
          "Cocoa",
          "Cocoa",
          "Cocoa",
          "Cocoa",
          "Cocoa",
          "Cocoa",
          "Cocoa"
         ],
         "x0": " ",
         "xaxis": "x",
         "y": {
          "bdata": "mpmZmZlZQ0CamZmZmVlDQJqZmZmZWUNAmpmZmZlZQ0CamZmZmVlDQJqZmZmZWUNAAAAAAAAARECamZmZmVlDQJqZmZmZWUNAmpmZmZlZQ0AAAAAAAIBDQFyPwvUo3EJAXI/C9SjcQkBcj8L1KNxCQFyPwvUo3EJAXI/C9SjcQkAAAAAAAIBDQFyPwvUo3EJAXI/C9SjcQkBcj8L1KNxCQFyPwvUo3EJAAAAAAACAQ0Bcj8L1KNxCQFyPwvUo3EJAXI/C9SjcQkBcj8L1KNxCQFyPwvUo3EJAKVyPwvVoQEApXI/C9WhAQClcj8L1aEBAKVyPwvVoQEApXI/C9WhAQClcj8L1aEBAKVyPwvVoQEApXI/C9WhAQA==",
          "dtype": "f8"
         },
         "y0": " ",
         "yaxis": "y"
        },
        {
         "alignmentgroup": "True",
         "hovertemplate": "coffee_name=%{x}<br>money=%{y}<extra></extra>",
         "legendgroup": "Cortado",
         "marker": {
          "color": "#BE9B7B"
         },
         "name": "Cortado",
         "notched": false,
         "offsetgroup": "Cortado",
         "orientation": "v",
         "showlegend": true,
         "type": "box",
         "x": [
          "Cortado",
          "Cortado",
          "Cortado",
          "Cortado",
          "Cortado",
          "Cortado",
          "Cortado",
          "Cortado",
          "Cortado",
          "Cortado",
          "Cortado",
          "Cortado",
          "Cortado",
          "Cortado",
          "Cortado",
          "Cortado",
          "Cortado",
          "Cortado",
          "Cortado",
          "Cortado",
          "Cortado",
          "Cortado",
          "Cortado",
          "Cortado",
          "Cortado",
          "Cortado",
          "Cortado",
          "Cortado",
          "Cortado",
          "Cortado",
          "Cortado",
          "Cortado",
          "Cortado",
          "Cortado",
          "Cortado",
          "Cortado",
          "Cortado",
          "Cortado",
          "Cortado",
          "Cortado",
          "Cortado",
          "Cortado",
          "Cortado",
          "Cortado",
          "Cortado",
          "Cortado",
          "Cortado",
          "Cortado",
          "Cortado",
          "Cortado",
          "Cortado",
          "Cortado",
          "Cortado",
          "Cortado",
          "Cortado",
          "Cortado",
          "Cortado",
          "Cortado",
          "Cortado",
          "Cortado",
          "Cortado",
          "Cortado",
          "Cortado",
          "Cortado",
          "Cortado",
          "Cortado",
          "Cortado",
          "Cortado",
          "Cortado",
          "Cortado",
          "Cortado",
          "Cortado",
          "Cortado",
          "Cortado",
          "Cortado",
          "Cortado",
          "Cortado",
          "Cortado",
          "Cortado",
          "Cortado",
          "Cortado",
          "Cortado",
          "Cortado",
          "Cortado",
          "Cortado",
          "Cortado",
          "Cortado",
          "Cortado",
          "Cortado",
          "Cortado",
          "Cortado",
          "Cortado",
          "Cortado",
          "Cortado",
          "Cortado",
          "Cortado",
          "Cortado",
          "Cortado",
          "Cortado"
         ],
         "x0": " ",
         "xaxis": "x",
         "y": {
          "bdata": "ZmZmZmbmPEBmZmZmZuY8QGZmZmZm5jxAZmZmZmbmPEBmZmZmZuY8QGZmZmZm5jxAZmZmZmbmPEAAAAAAAAA+QGZmZmZm5jxAZmZmZmbmPEBmZmZmZuY8QGZmZmZm5jxAZmZmZmbmPEBmZmZmZuY8QGZmZmZm5jxAZmZmZmbmPEBmZmZmZuY8QAAAAAAAAD5AZmZmZmbmPEBmZmZmZuY8QGZmZmZm5jxAZmZmZmbmPEBmZmZmZuY8QGZmZmZm5jxAZmZmZmbmPEBmZmZmZuY8QGZmZmZm5jxAZmZmZmbmPEBmZmZmZuY8QGZmZmZm5jxAZmZmZmbmPEBmZmZmZuY8QAAAAAAAAD5AZmZmZmbmPEBmZmZmZuY8QGZmZmZm5jxAZmZmZmbmPEBmZmZmZuY8QAAAAAAAAD5AAAAAAAAAPkBmZmZmZuY8QGZmZmZm5jxAZmZmZmbmPEBmZmZmZuY8QGZmZmZm5jxA7FG4HoXrO0DsUbgehes7QOxRuB6F6ztA7FG4HoXrO0DsUbgehes7QOxRuB6F6ztA7FG4HoXrO0DsUbgehes7QOxRuB6F6ztA7FG4HoXrO0DsUbgehes7QOxRuB6F6ztA7FG4HoXrO0DsUbgehes7QOxRuB6F6ztA7FG4HoXrO0DsUbgehes7QOxRuB6F6ztA7FG4HoXrO0DsUbgehes7QOxRuB6F6ztA7FG4HoXrO0DsUbgehes7QOxRuB6F6ztA7FG4HoXrO0DsUbgehes7QOxRuB6F6ztA7FG4HoXrO0DsUbgehes7QOxRuB6F6ztA7FG4HoXrO0DsUbgehes7QOxRuB6F6ztA7FG4HoXrO0DsUbgehes7QOxRuB6F6ztA7FG4HoXrO0DsUbgehes7QOxRuB6F6ztA7FG4HoXrO0CF61G4HgU3QIXrUbgeBTdAhetRuB4FN0CF61G4HgU3QIXrUbgeBTdAhetRuB4FN0CF61G4HgU3QIXrUbgeBTdAhetRuB4FN0CF61G4HgU3QIXrUbgeBTdAhetRuB4FN0CF61G4HgU3QIXrUbgeBTdA",
          "dtype": "f8"
         },
         "y0": " ",
         "yaxis": "y"
        },
        {
         "alignmentgroup": "True",
         "hovertemplate": "coffee_name=%{x}<br>money=%{y}<extra></extra>",
         "legendgroup": "Espresso",
         "marker": {
          "color": "#D2B48C"
         },
         "name": "Espresso",
         "notched": false,
         "offsetgroup": "Espresso",
         "orientation": "v",
         "showlegend": true,
         "type": "box",
         "x": [
          "Espresso",
          "Espresso",
          "Espresso",
          "Espresso",
          "Espresso",
          "Espresso",
          "Espresso",
          "Espresso",
          "Espresso",
          "Espresso",
          "Espresso",
          "Espresso",
          "Espresso",
          "Espresso",
          "Espresso",
          "Espresso",
          "Espresso",
          "Espresso",
          "Espresso",
          "Espresso",
          "Espresso",
          "Espresso",
          "Espresso",
          "Espresso",
          "Espresso",
          "Espresso",
          "Espresso",
          "Espresso",
          "Espresso",
          "Espresso",
          "Espresso",
          "Espresso",
          "Espresso",
          "Espresso",
          "Espresso",
          "Espresso",
          "Espresso",
          "Espresso",
          "Espresso",
          "Espresso",
          "Espresso",
          "Espresso",
          "Espresso",
          "Espresso",
          "Espresso",
          "Espresso",
          "Espresso",
          "Espresso",
          "Espresso"
         ],
         "x0": " ",
         "xaxis": "x",
         "y": {
          "bdata": "AAAAAAAAOEAAAAAAAAA4QAAAAAAAADhAAAAAAAAAOUAAAAAAAAA4QAAAAAAAADhAAAAAAAAAOEAAAAAAAAA4QAAAAAAAADhAAAAAAAAAOEAAAAAAAAA4QAAAAAAAADhAAAAAAAAAOUAAAAAAAAA5QAAAAAAAADhAAAAAAAAAOUAAAAAAAAA4QIXrUbgeBTdAhetRuB4FN0AAAAAAAAA4QIXrUbgeBTdAhetRuB4FN0CF61G4HgU3QIXrUbgeBTdAhetRuB4FN0CF61G4HgU3QIXrUbgeBTdAhetRuB4FN0CF61G4HgU3QIXrUbgeBTdAhetRuB4FN0CF61G4HgU3QIXrUbgeBTdAhetRuB4FN0CF61G4HgU3QIXrUbgeBTdAhetRuB4FN0CF61G4HgU3QIXrUbgeBTdAH4XrUbgeMkAfhetRuB4yQB+F61G4HjJAH4XrUbgeMkAfhetRuB4yQB+F61G4HjJAH4XrUbgeMkAfhetRuB4yQB+F61G4HjJAH4XrUbgeMkA=",
          "dtype": "f8"
         },
         "y0": " ",
         "yaxis": "y"
        },
        {
         "alignmentgroup": "True",
         "hovertemplate": "coffee_name=%{x}<br>money=%{y}<extra></extra>",
         "legendgroup": "Cappuccino",
         "marker": {
          "color": "#E6D3B3"
         },
         "name": "Cappuccino",
         "notched": false,
         "offsetgroup": "Cappuccino",
         "orientation": "v",
         "showlegend": true,
         "type": "box",
         "x": [
          "Cappuccino",
          "Cappuccino",
          "Cappuccino",
          "Cappuccino",
          "Cappuccino",
          "Cappuccino",
          "Cappuccino",
          "Cappuccino",
          "Cappuccino",
          "Cappuccino",
          "Cappuccino",
          "Cappuccino",
          "Cappuccino",
          "Cappuccino",
          "Cappuccino",
          "Cappuccino",
          "Cappuccino",
          "Cappuccino",
          "Cappuccino",
          "Cappuccino",
          "Cappuccino",
          "Cappuccino",
          "Cappuccino",
          "Cappuccino",
          "Cappuccino",
          "Cappuccino",
          "Cappuccino",
          "Cappuccino",
          "Cappuccino",
          "Cappuccino",
          "Cappuccino",
          "Cappuccino",
          "Cappuccino",
          "Cappuccino",
          "Cappuccino",
          "Cappuccino",
          "Cappuccino",
          "Cappuccino",
          "Cappuccino",
          "Cappuccino",
          "Cappuccino",
          "Cappuccino",
          "Cappuccino",
          "Cappuccino",
          "Cappuccino",
          "Cappuccino",
          "Cappuccino",
          "Cappuccino",
          "Cappuccino",
          "Cappuccino",
          "Cappuccino",
          "Cappuccino",
          "Cappuccino",
          "Cappuccino",
          "Cappuccino",
          "Cappuccino",
          "Cappuccino",
          "Cappuccino",
          "Cappuccino",
          "Cappuccino",
          "Cappuccino",
          "Cappuccino",
          "Cappuccino",
          "Cappuccino",
          "Cappuccino",
          "Cappuccino",
          "Cappuccino",
          "Cappuccino",
          "Cappuccino",
          "Cappuccino",
          "Cappuccino",
          "Cappuccino",
          "Cappuccino",
          "Cappuccino",
          "Cappuccino",
          "Cappuccino",
          "Cappuccino",
          "Cappuccino",
          "Cappuccino",
          "Cappuccino",
          "Cappuccino",
          "Cappuccino",
          "Cappuccino",
          "Cappuccino",
          "Cappuccino",
          "Cappuccino",
          "Cappuccino",
          "Cappuccino",
          "Cappuccino",
          "Cappuccino",
          "Cappuccino",
          "Cappuccino",
          "Cappuccino",
          "Cappuccino",
          "Cappuccino",
          "Cappuccino",
          "Cappuccino",
          "Cappuccino",
          "Cappuccino",
          "Cappuccino",
          "Cappuccino",
          "Cappuccino",
          "Cappuccino",
          "Cappuccino",
          "Cappuccino",
          "Cappuccino",
          "Cappuccino",
          "Cappuccino",
          "Cappuccino",
          "Cappuccino",
          "Cappuccino",
          "Cappuccino",
          "Cappuccino",
          "Cappuccino",
          "Cappuccino",
          "Cappuccino",
          "Cappuccino",
          "Cappuccino",
          "Cappuccino",
          "Cappuccino",
          "Cappuccino",
          "Cappuccino",
          "Cappuccino",
          "Cappuccino",
          "Cappuccino",
          "Cappuccino",
          "Cappuccino",
          "Cappuccino",
          "Cappuccino",
          "Cappuccino",
          "Cappuccino",
          "Cappuccino",
          "Cappuccino",
          "Cappuccino",
          "Cappuccino",
          "Cappuccino",
          "Cappuccino",
          "Cappuccino",
          "Cappuccino",
          "Cappuccino",
          "Cappuccino",
          "Cappuccino",
          "Cappuccino",
          "Cappuccino",
          "Cappuccino",
          "Cappuccino",
          "Cappuccino",
          "Cappuccino",
          "Cappuccino",
          "Cappuccino",
          "Cappuccino",
          "Cappuccino",
          "Cappuccino",
          "Cappuccino",
          "Cappuccino",
          "Cappuccino",
          "Cappuccino",
          "Cappuccino",
          "Cappuccino",
          "Cappuccino",
          "Cappuccino",
          "Cappuccino",
          "Cappuccino",
          "Cappuccino",
          "Cappuccino",
          "Cappuccino",
          "Cappuccino",
          "Cappuccino",
          "Cappuccino",
          "Cappuccino",
          "Cappuccino",
          "Cappuccino",
          "Cappuccino",
          "Cappuccino",
          "Cappuccino",
          "Cappuccino",
          "Cappuccino",
          "Cappuccino",
          "Cappuccino",
          "Cappuccino",
          "Cappuccino",
          "Cappuccino",
          "Cappuccino",
          "Cappuccino",
          "Cappuccino",
          "Cappuccino",
          "Cappuccino",
          "Cappuccino",
          "Cappuccino",
          "Cappuccino",
          "Cappuccino",
          "Cappuccino",
          "Cappuccino",
          "Cappuccino",
          "Cappuccino",
          "Cappuccino"
         ],
         "x0": " ",
         "xaxis": "x",
         "y": {
          "bdata": "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",
          "dtype": "f8"
         },
         "y0": " ",
         "yaxis": "y"
        }
       ],
       "layout": {
        "boxmode": "overlay",
        "font": {
         "color": "#3C2F2F",
         "size": 14
        },
        "legend": {
         "title": {
          "text": "coffee_name"
         },
         "tracegroupgap": 0
        },
        "paper_bgcolor": "#FFF4E6",
        "template": {
         "data": {
          "bar": [
           {
            "error_x": {
             "color": "#2a3f5f"
            },
            "error_y": {
             "color": "#2a3f5f"
            },
            "marker": {
             "line": {
              "color": "white",
              "width": 0.5
             },
             "pattern": {
              "fillmode": "overlay",
              "size": 10,
              "solidity": 0.2
             }
            },
            "type": "bar"
           }
          ],
          "barpolar": [
           {
            "marker": {
             "line": {
              "color": "white",
              "width": 0.5
             },
             "pattern": {
              "fillmode": "overlay",
              "size": 10,
              "solidity": 0.2
             }
            },
            "type": "barpolar"
           }
          ],
          "carpet": [
           {
            "aaxis": {
             "endlinecolor": "#2a3f5f",
             "gridcolor": "#C8D4E3",
             "linecolor": "#C8D4E3",
             "minorgridcolor": "#C8D4E3",
             "startlinecolor": "#2a3f5f"
            },
            "baxis": {
             "endlinecolor": "#2a3f5f",
             "gridcolor": "#C8D4E3",
             "linecolor": "#C8D4E3",
             "minorgridcolor": "#C8D4E3",
             "startlinecolor": "#2a3f5f"
            },
            "type": "carpet"
           }
          ],
          "choropleth": [
           {
            "colorbar": {
             "outlinewidth": 0,
             "ticks": ""
            },
            "type": "choropleth"
           }
          ],
          "contour": [
           {
            "colorbar": {
             "outlinewidth": 0,
             "ticks": ""
            },
            "colorscale": [
             [
              0,
              "#0d0887"
             ],
             [
              0.1111111111111111,
              "#46039f"
             ],
             [
              0.2222222222222222,
              "#7201a8"
             ],
             [
              0.3333333333333333,
              "#9c179e"
             ],
             [
              0.4444444444444444,
              "#bd3786"
             ],
             [
              0.5555555555555556,
              "#d8576b"
             ],
             [
              0.6666666666666666,
              "#ed7953"
             ],
             [
              0.7777777777777778,
              "#fb9f3a"
             ],
             [
              0.8888888888888888,
              "#fdca26"
             ],
             [
              1,
              "#f0f921"
             ]
            ],
            "type": "contour"
           }
          ],
          "contourcarpet": [
           {
            "colorbar": {
             "outlinewidth": 0,
             "ticks": ""
            },
            "type": "contourcarpet"
           }
          ],
          "heatmap": [
           {
            "colorbar": {
             "outlinewidth": 0,
             "ticks": ""
            },
            "colorscale": [
             [
              0,
              "#0d0887"
             ],
             [
              0.1111111111111111,
              "#46039f"
             ],
             [
              0.2222222222222222,
              "#7201a8"
             ],
             [
              0.3333333333333333,
              "#9c179e"
             ],
             [
              0.4444444444444444,
              "#bd3786"
             ],
             [
              0.5555555555555556,
              "#d8576b"
             ],
             [
              0.6666666666666666,
              "#ed7953"
             ],
             [
              0.7777777777777778,
              "#fb9f3a"
             ],
             [
              0.8888888888888888,
              "#fdca26"
             ],
             [
              1,
              "#f0f921"
             ]
            ],
            "type": "heatmap"
           }
          ],
          "histogram": [
           {
            "marker": {
             "pattern": {
              "fillmode": "overlay",
              "size": 10,
              "solidity": 0.2
             }
            },
            "type": "histogram"
           }
          ],
          "histogram2d": [
           {
            "colorbar": {
             "outlinewidth": 0,
             "ticks": ""
            },
            "colorscale": [
             [
              0,
              "#0d0887"
             ],
             [
              0.1111111111111111,
              "#46039f"
             ],
             [
              0.2222222222222222,
              "#7201a8"
             ],
             [
              0.3333333333333333,
              "#9c179e"
             ],
             [
              0.4444444444444444,
              "#bd3786"
             ],
             [
              0.5555555555555556,
              "#d8576b"
             ],
             [
              0.6666666666666666,
              "#ed7953"
             ],
             [
              0.7777777777777778,
              "#fb9f3a"
             ],
             [
              0.8888888888888888,
              "#fdca26"
             ],
             [
              1,
              "#f0f921"
             ]
            ],
            "type": "histogram2d"
           }
          ],
          "histogram2dcontour": [
           {
            "colorbar": {
             "outlinewidth": 0,
             "ticks": ""
            },
            "colorscale": [
             [
              0,
              "#0d0887"
             ],
             [
              0.1111111111111111,
              "#46039f"
             ],
             [
              0.2222222222222222,
              "#7201a8"
             ],
             [
              0.3333333333333333,
              "#9c179e"
             ],
             [
              0.4444444444444444,
              "#bd3786"
             ],
             [
              0.5555555555555556,
              "#d8576b"
             ],
             [
              0.6666666666666666,
              "#ed7953"
             ],
             [
              0.7777777777777778,
              "#fb9f3a"
             ],
             [
              0.8888888888888888,
              "#fdca26"
             ],
             [
              1,
              "#f0f921"
             ]
            ],
            "type": "histogram2dcontour"
           }
          ],
          "mesh3d": [
           {
            "colorbar": {
             "outlinewidth": 0,
             "ticks": ""
            },
            "type": "mesh3d"
           }
          ],
          "parcoords": [
           {
            "line": {
             "colorbar": {
              "outlinewidth": 0,
              "ticks": ""
             }
            },
            "type": "parcoords"
           }
          ],
          "pie": [
           {
            "automargin": true,
            "type": "pie"
           }
          ],
          "scatter": [
           {
            "fillpattern": {
             "fillmode": "overlay",
             "size": 10,
             "solidity": 0.2
            },
            "type": "scatter"
           }
          ],
          "scatter3d": [
           {
            "line": {
             "colorbar": {
              "outlinewidth": 0,
              "ticks": ""
             }
            },
            "marker": {
             "colorbar": {
              "outlinewidth": 0,
              "ticks": ""
             }
            },
            "type": "scatter3d"
           }
          ],
          "scattercarpet": [
           {
            "marker": {
             "colorbar": {
              "outlinewidth": 0,
              "ticks": ""
             }
            },
            "type": "scattercarpet"
           }
          ],
          "scattergeo": [
           {
            "marker": {
             "colorbar": {
              "outlinewidth": 0,
              "ticks": ""
             }
            },
            "type": "scattergeo"
           }
          ],
          "scattergl": [
           {
            "marker": {
             "colorbar": {
              "outlinewidth": 0,
              "ticks": ""
             }
            },
            "type": "scattergl"
           }
          ],
          "scattermap": [
           {
            "marker": {
             "colorbar": {
              "outlinewidth": 0,
              "ticks": ""
             }
            },
            "type": "scattermap"
           }
          ],
          "scattermapbox": [
           {
            "marker": {
             "colorbar": {
              "outlinewidth": 0,
              "ticks": ""
             }
            },
            "type": "scattermapbox"
           }
          ],
          "scatterpolar": [
           {
            "marker": {
             "colorbar": {
              "outlinewidth": 0,
              "ticks": ""
             }
            },
            "type": "scatterpolar"
           }
          ],
          "scatterpolargl": [
           {
            "marker": {
             "colorbar": {
              "outlinewidth": 0,
              "ticks": ""
             }
            },
            "type": "scatterpolargl"
           }
          ],
          "scatterternary": [
           {
            "marker": {
             "colorbar": {
              "outlinewidth": 0,
              "ticks": ""
             }
            },
            "type": "scatterternary"
           }
          ],
          "surface": [
           {
            "colorbar": {
             "outlinewidth": 0,
             "ticks": ""
            },
            "colorscale": [
             [
              0,
              "#0d0887"
             ],
             [
              0.1111111111111111,
              "#46039f"
             ],
             [
              0.2222222222222222,
              "#7201a8"
             ],
             [
              0.3333333333333333,
              "#9c179e"
             ],
             [
              0.4444444444444444,
              "#bd3786"
             ],
             [
              0.5555555555555556,
              "#d8576b"
             ],
             [
              0.6666666666666666,
              "#ed7953"
             ],
             [
              0.7777777777777778,
              "#fb9f3a"
             ],
             [
              0.8888888888888888,
              "#fdca26"
             ],
             [
              1,
              "#f0f921"
             ]
            ],
            "type": "surface"
           }
          ],
          "table": [
           {
            "cells": {
             "fill": {
              "color": "#EBF0F8"
             },
             "line": {
              "color": "white"
             }
            },
            "header": {
             "fill": {
              "color": "#C8D4E3"
             },
             "line": {
              "color": "white"
             }
            },
            "type": "table"
           }
          ]
         },
         "layout": {
          "annotationdefaults": {
           "arrowcolor": "#2a3f5f",
           "arrowhead": 0,
           "arrowwidth": 1
          },
          "autotypenumbers": "strict",
          "coloraxis": {
           "colorbar": {
            "outlinewidth": 0,
            "ticks": ""
           }
          },
          "colorscale": {
           "diverging": [
            [
             0,
             "#8e0152"
            ],
            [
             0.1,
             "#c51b7d"
            ],
            [
             0.2,
             "#de77ae"
            ],
            [
             0.3,
             "#f1b6da"
            ],
            [
             0.4,
             "#fde0ef"
            ],
            [
             0.5,
             "#f7f7f7"
            ],
            [
             0.6,
             "#e6f5d0"
            ],
            [
             0.7,
             "#b8e186"
            ],
            [
             0.8,
             "#7fbc41"
            ],
            [
             0.9,
             "#4d9221"
            ],
            [
             1,
             "#276419"
            ]
           ],
           "sequential": [
            [
             0,
             "#0d0887"
            ],
            [
             0.1111111111111111,
             "#46039f"
            ],
            [
             0.2222222222222222,
             "#7201a8"
            ],
            [
             0.3333333333333333,
             "#9c179e"
            ],
            [
             0.4444444444444444,
             "#bd3786"
            ],
            [
             0.5555555555555556,
             "#d8576b"
            ],
            [
             0.6666666666666666,
             "#ed7953"
            ],
            [
             0.7777777777777778,
             "#fb9f3a"
            ],
            [
             0.8888888888888888,
             "#fdca26"
            ],
            [
             1,
             "#f0f921"
            ]
           ],
           "sequentialminus": [
            [
             0,
             "#0d0887"
            ],
            [
             0.1111111111111111,
             "#46039f"
            ],
            [
             0.2222222222222222,
             "#7201a8"
            ],
            [
             0.3333333333333333,
             "#9c179e"
            ],
            [
             0.4444444444444444,
             "#bd3786"
            ],
            [
             0.5555555555555556,
             "#d8576b"
            ],
            [
             0.6666666666666666,
             "#ed7953"
            ],
            [
             0.7777777777777778,
             "#fb9f3a"
            ],
            [
             0.8888888888888888,
             "#fdca26"
            ],
            [
             1,
             "#f0f921"
            ]
           ]
          },
          "colorway": [
           "#636efa",
           "#EF553B",
           "#00cc96",
           "#ab63fa",
           "#FFA15A",
           "#19d3f3",
           "#FF6692",
           "#B6E880",
           "#FF97FF",
           "#FECB52"
          ],
          "font": {
           "color": "#2a3f5f"
          },
          "geo": {
           "bgcolor": "white",
           "lakecolor": "white",
           "landcolor": "white",
           "showlakes": true,
           "showland": true,
           "subunitcolor": "#C8D4E3"
          },
          "hoverlabel": {
           "align": "left"
          },
          "hovermode": "closest",
          "mapbox": {
           "style": "light"
          },
          "paper_bgcolor": "white",
          "plot_bgcolor": "white",
          "polar": {
           "angularaxis": {
            "gridcolor": "#EBF0F8",
            "linecolor": "#EBF0F8",
            "ticks": ""
           },
           "bgcolor": "white",
           "radialaxis": {
            "gridcolor": "#EBF0F8",
            "linecolor": "#EBF0F8",
            "ticks": ""
           }
          },
          "scene": {
           "xaxis": {
            "backgroundcolor": "white",
            "gridcolor": "#DFE8F3",
            "gridwidth": 2,
            "linecolor": "#EBF0F8",
            "showbackground": true,
            "ticks": "",
            "zerolinecolor": "#EBF0F8"
           },
           "yaxis": {
            "backgroundcolor": "white",
            "gridcolor": "#DFE8F3",
            "gridwidth": 2,
            "linecolor": "#EBF0F8",
            "showbackground": true,
            "ticks": "",
            "zerolinecolor": "#EBF0F8"
           },
           "zaxis": {
            "backgroundcolor": "white",
            "gridcolor": "#DFE8F3",
            "gridwidth": 2,
            "linecolor": "#EBF0F8",
            "showbackground": true,
            "ticks": "",
            "zerolinecolor": "#EBF0F8"
           }
          },
          "shapedefaults": {
           "line": {
            "color": "#2a3f5f"
           }
          },
          "ternary": {
           "aaxis": {
            "gridcolor": "#DFE8F3",
            "linecolor": "#A2B1C6",
            "ticks": ""
           },
           "baxis": {
            "gridcolor": "#DFE8F3",
            "linecolor": "#A2B1C6",
            "ticks": ""
           },
           "bgcolor": "white",
           "caxis": {
            "gridcolor": "#DFE8F3",
            "linecolor": "#A2B1C6",
            "ticks": ""
           }
          },
          "title": {
           "x": 0.05
          },
          "xaxis": {
           "automargin": true,
           "gridcolor": "#EBF0F8",
           "linecolor": "#EBF0F8",
           "ticks": "",
           "title": {
            "standoff": 15
           },
           "zerolinecolor": "#EBF0F8",
           "zerolinewidth": 2
          },
          "yaxis": {
           "automargin": true,
           "gridcolor": "#EBF0F8",
           "linecolor": "#EBF0F8",
           "ticks": "",
           "title": {
            "standoff": 15
           },
           "zerolinecolor": "#EBF0F8",
           "zerolinewidth": 2
          }
         }
        },
        "title": {
         "text": " Price Distribution per Coffee Type"
        },
        "xaxis": {
         "anchor": "y",
         "categoryarray": [
          "Latte",
          "Hot Chocolate",
          "Americano",
          "Americano with Milk",
          "Cocoa",
          "Cortado",
          "Espresso",
          "Cappuccino"
         ],
         "categoryorder": "array",
         "domain": [
          0,
          1
         ],
         "title": {
          "text": "Coffee Type"
         }
        },
        "yaxis": {
         "anchor": "x",
         "domain": [
          0,
          1
         ],
         "title": {
          "text": "Price"
         }
        }
       }
      },
      "image/png": "[encoded data removed]"
     },
     "metadata": {},
     "output_type": "display_data"
    }
   ],
   "source": [
    "#  Plot 8: Price Distribution\n",
    "fig8 = px.box(\n",
    "    df,\n",
    "    x=\"coffee_name\", y=\"money\",\n",
    "    title=\" Price Distribution per Coffee Type\",\n",
    "    color=\"coffee_name\",\n",
    "    color_discrete_sequence=coffee_palette\n",
    ")\n",
    "\n",
    "fig8.update_layout(\n",
    "    template=\"plotly_white\",\n",
    "    paper_bgcolor=\"#FFF4E6\",\n",
    "    font=dict(color=\"#3C2F2F\", size=14),\n",
    "    xaxis_title=\"Coffee Type\",\n",
    "    yaxis_title=\"Price\"\n",
    ")\n",
    "fig8.show()"
   ]
  },
  {
   "cell_type": "code",
   "execution_count": null,
   "id": "1a085602-1a01-468c-818b-1450bad3034a",
   "metadata": {},
   "outputs": [],
   "source": []
  }
 ],
 "metadata": {
  "kernelspec": {
   "display_name": "Python 3 (ipykernel)",
   "language": "python",
   "name": "python3"
  },
  "language_info": {
   "codemirror_mode": {
    "name": "ipython",
    "version": 3
   },
   "file_extension": ".py",
   "mimetype": "text/x-python",
   "name": "python",
   "nbconvert_exporter": "python",
   "pygments_lexer": "ipython3",
   "version": "3.13.7"
  }
 },
 "nbformat": 4,
 "nbformat_minor": 5
}
